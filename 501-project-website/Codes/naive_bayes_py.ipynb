{
 "cells": [
  {
   "cell_type": "code",
   "execution_count": 3,
   "metadata": {},
   "outputs": [],
   "source": [
    "import matplotlib.pyplot as plt\n",
    "import pandas as pd\n",
    "from sklearn.feature_extraction.text import CountVectorizer\n",
    "import numpy as np\n",
    "from sklearn.metrics import accuracy_score"
   ]
  },
  {
   "cell_type": "code",
   "execution_count": 4,
   "metadata": {},
   "outputs": [],
   "source": [
    "df = pd.read_csv('/Users/anthonymoubarak/Desktop/anly-501-project-anthonymoub/501-project-website/Data/final_df.csv')"
   ]
  },
  {
   "cell_type": "markdown",
   "metadata": {},
   "source": [
    "# Part One: Cleaning and preparing data"
   ]
  },
  {
   "cell_type": "code",
   "execution_count": 5,
   "metadata": {},
   "outputs": [],
   "source": [
    "df = pd.read_csv('/Users/anthonymoubarak/Desktop/anly-501-project-anthonymoub/501-project-website/Data/final_df.csv')\n",
    "\n",
    "# Keep only the lyrics column and the year (which is the label) column to do multinomial NB\n",
    "\n",
    "df = df[['lyrics' , 'year']]\n",
    "\n",
    "\n",
    "# The label for each song would be the decade in which it was released (50s,60s,70s,...,2010s)\n",
    "# Convert the \"lyrics\" column to one of these classes: 50s,60s,70s,80s,90s,00s,2010s (ex: 1967 --> 60s)\n",
    "\n",
    "for i in np.arange(0,len(df)):\n",
    "    decade = df['year'][i]\n",
    "\n",
    "    if decade <1960:\n",
    "        df['year'][i] = '50s'\n",
    "    \n",
    "    elif decade <1970:\n",
    "        df['year'][i] = '60s'\n",
    "    \n",
    "    elif decade <1980:\n",
    "        df['year'][i] = '70s'\n",
    "\n",
    "    elif decade <1990:\n",
    "        df['year'][i] = '80s'\n",
    "\n",
    "    elif decade <2000:\n",
    "        df['year'][i] = '90s'\n",
    "\n",
    "    elif decade <2010:\n",
    "        df['year'][i] = '00s'\n",
    "    \n",
    "    else:\n",
    "        df['year'][i] = '2010s'\n",
    "\n",
    "\n"
   ]
  },
  {
   "cell_type": "code",
   "execution_count": 6,
   "metadata": {},
   "outputs": [
    {
     "name": "stderr",
     "output_type": "stream",
     "text": [
      "[nltk_data] Downloading package stopwords to\n",
      "[nltk_data]     /Users/anthonymoubarak/nltk_data...\n",
      "[nltk_data]   Package stopwords is already up-to-date!\n"
     ]
    }
   ],
   "source": [
    "# Clean the lyrics of songs (remove stop words, etc.)\n",
    "\n",
    "import nltk\n",
    "from nltk.corpus import stopwords\n",
    "nltk.download('stopwords')\n",
    "\n",
    "sw_nltk = stopwords.words('english')\n",
    "\n",
    "\n",
    "\n",
    "for i in range(len(df)):\n",
    "\n",
    "    query = df['lyrics'][i].replace(\"\\n\" , \" \")\n",
    "\n",
    "    querywords = query.split()  \n",
    "\n",
    "    resultwords  = [word for word in querywords if word.lower() not in sw_nltk]\n",
    "\n",
    "    result = ' '.join(resultwords)\n",
    "\n",
    "    df['lyrics'][i] = result"
   ]
  },
  {
   "cell_type": "code",
   "execution_count": 7,
   "metadata": {},
   "outputs": [
    {
     "name": "stdout",
     "output_type": "stream",
     "text": [
      "index = 0 : label = 50s\n",
      "index = 1 : label = 60s\n",
      "index = 2 : label = 70s\n",
      "index = 3 : label = 80s\n",
      "index = 4 : label = 90s\n",
      "index = 5 : label = 00s\n",
      "index = 6 : label = 2010s\n"
     ]
    }
   ],
   "source": [
    "#CONVERT FROM STRING LABELS TO INTEGERS \n",
    "labels=[]; #y1=[]; y2=[]\n",
    "y1=[]\n",
    "for label in df[\"year\"]:\n",
    "    if label not in labels:\n",
    "        labels.append(label)\n",
    "        print(\"index =\",len(labels)-1,\": label =\",label)\n",
    "    for i in range(0,len(labels)):\n",
    "        if(label==labels[i]):\n",
    "            y1.append(i)\n",
    "y1=np.array(y1)"
   ]
  },
  {
   "cell_type": "code",
   "execution_count": 8,
   "metadata": {},
   "outputs": [],
   "source": [
    "y1 = df['year']"
   ]
  },
  {
   "cell_type": "code",
   "execution_count": 9,
   "metadata": {},
   "outputs": [],
   "source": [
    "# Convert lyrics to list of strings\n",
    "corpus=df[\"lyrics\"].to_list()"
   ]
  },
  {
   "cell_type": "code",
   "execution_count": 10,
   "metadata": {},
   "outputs": [
    {
     "name": "stdout",
     "output_type": "stream",
     "text": [
      "(4416, 21383) (4416,)\n",
      "DATA POINT-0: [0. 0. 0. 0. 0. 0. 0. 0. 0. 0.] y1 = 50s\n"
     ]
    }
   ],
   "source": [
    "# INITIALIZE COUNT VECTORIZER\n",
    "# minDF = 0.01 means \"ignore terms that appear in less than 1% of the documents\". \n",
    "vectorizer=CountVectorizer(min_df=0.0001)   \n",
    "\n",
    "# RUN COUNT VECTORIZER ON OUR COURPUS \n",
    "Xs  =  vectorizer.fit_transform(corpus)   \n",
    "X=np.array(Xs.todense())\n",
    "\n",
    "#CONVERT TO ONE-HOT VECTORS\n",
    "maxs=np.max(X,axis=0)\n",
    "X=np.ceil(X/maxs)\n",
    "\n",
    "# DOUBLE CHECK \n",
    "print(X.shape,y1.shape)\n",
    "print(\"DATA POINT-0:\",X[0,0:10],\"y1 =\",y1[0])"
   ]
  },
  {
   "cell_type": "code",
   "execution_count": 11,
   "metadata": {},
   "outputs": [],
   "source": [
    "#INSERT CODE TO PARTITION DATASET INTO TRAINING-TESTING\n",
    "\n",
    "from sklearn.model_selection import train_test_split\n",
    "test_ratio=0.2\n",
    "x_train, x_test, y_train, y_test = train_test_split(X, y1, test_size=test_ratio, random_state=0)\n"
   ]
  },
  {
   "cell_type": "code",
   "execution_count": 12,
   "metadata": {},
   "outputs": [],
   "source": [
    "# Function to report accuracy\n",
    "def report(y,ypred):\n",
    "      #ACCURACY COMPUTE \n",
    "      print(\"Accuracy:\",accuracy_score(y, ypred)*100)\n",
    "      print(\"Number of mislabeled points out of a total %d points = %d\"\n",
    "            % (y.shape[0], (y != ypred).sum()))\n",
    "\n",
    "def print_model_summary():\n",
    "      # LABEL PREDICTIONS FOR TRAINING AND TEST SET \n",
    "      yp_train = model.predict(x_train)\n",
    "      yp_test = model.predict(x_test)\n",
    "\n",
    "      print(\"ACCURACY CALCULATION\\n\")\n",
    "\n",
    "      print(\"TRAINING SET:\")\n",
    "      report(y_train,yp_train)\n",
    "\n",
    "      print(\"\\nTEST SET (UNTRAINED DATA):\")\n",
    "      report(y_test,yp_test)\n",
    "\n"
   ]
  },
  {
   "cell_type": "markdown",
   "metadata": {},
   "source": [
    "# Part Two: Train a Multinomial Naive Bayes model"
   ]
  },
  {
   "cell_type": "code",
   "execution_count": 13,
   "metadata": {},
   "outputs": [
    {
     "name": "stdout",
     "output_type": "stream",
     "text": [
      "ACCURACY CALCULATION\n",
      "\n",
      "TRAINING SET:\n",
      "Accuracy: 72.96149490373726\n",
      "Number of mislabeled points out of a total 3532 points = 955\n",
      "\n",
      "TEST SET (UNTRAINED DATA):\n",
      "Accuracy: 40.723981900452486\n",
      "Number of mislabeled points out of a total 884 points = 524\n"
     ]
    }
   ],
   "source": [
    "from sklearn.naive_bayes import MultinomialNB\n",
    "\n",
    "# INITIALIZE MODEL \n",
    "model = MultinomialNB()\n",
    "\n",
    "# TRAIN MODEL \n",
    "model.fit(x_train,y_train)\n",
    "\n",
    "# Predict values\n",
    "ypred = model.predict(x_test)\n",
    "\n",
    "# PRINT REPORT USING UTILITY FUNCTION ABOVE\n",
    "print_model_summary()"
   ]
  },
  {
   "cell_type": "markdown",
   "metadata": {},
   "source": [
    "# Part Three: Analyze results and compare accuracy to baseline model"
   ]
  },
  {
   "cell_type": "code",
   "execution_count": 14,
   "metadata": {},
   "outputs": [],
   "source": [
    "import random\n",
    "df['predictions'] = ''\n",
    "\n",
    "number_list = ['50s', '60s', '70s', '80s', '90s', '00s' , '2010s']\n",
    "for i in range(len(df)):\n",
    "    df['predictions'][i] = random.choice(number_list)\n",
    "    "
   ]
  },
  {
   "cell_type": "code",
   "execution_count": 15,
   "metadata": {},
   "outputs": [
    {
     "name": "stdout",
     "output_type": "stream",
     "text": [
      "Random classifier accuracy:  0.1383605072463768\n"
     ]
    }
   ],
   "source": [
    "print(\"Random classifier accuracy: \" , sum(df['year'] == df['predictions'])/len(df))"
   ]
  },
  {
   "cell_type": "code",
   "execution_count": 22,
   "metadata": {},
   "outputs": [
    {
     "data": {
      "image/png": "[encoded data removed]",
      "text/plain": [
       "<Figure size 640x480 with 1 Axes>"
      ]
     },
     "metadata": {},
     "output_type": "display_data"
    }
   ],
   "source": [
    "# Compare model accuracies using a bar chart\n",
    "from json.tool import main\n",
    "from turtle import title\n",
    "import seaborn as sns\n",
    "import pandas as pd\n",
    "df_accuracies = pd.DataFrame({'Model':['NB','Random classifier'], 'Accuracy (%)': [40,14]})\n",
    "sns.barplot(data=df_accuracies, x=\"Model\", y=\"Accuracy (%)\" ,  palette= ['#006699','grey']).set(title = 'Accuracy of model vs baseline' )\n",
    "plt.savefig(\"/Users/anthonymoubarak/Desktop/anly-501-project-anthonymoub/501-project-website/Plots/multinom_performance.png\")"
   ]
  },
  {
   "cell_type": "markdown",
   "metadata": {},
   "source": [
    "##### The NB model i built (76% accuracy) is 60% more accurate than a baseline random classifier model."
   ]
  },
  {
   "cell_type": "code",
   "execution_count": 17,
   "metadata": {},
   "outputs": [],
   "source": [
    "from sklearn.metrics import confusion_matrix\n",
    "\n",
    "conf_mat = confusion_matrix(\n",
    "        y_test, ypred)\n"
   ]
  },
  {
   "cell_type": "code",
   "execution_count": 31,
   "metadata": {},
   "outputs": [
    {
     "name": "stderr",
     "output_type": "stream",
     "text": [
      "/Users/anthonymoubarak/Library/Python/3.9/lib/python/site-packages/sklearn/utils/deprecation.py:87: FutureWarning: Function plot_confusion_matrix is deprecated; Function `plot_confusion_matrix` is deprecated in 1.0 and will be removed in 1.2. Use one of the class methods: ConfusionMatrixDisplay.from_predictions or ConfusionMatrixDisplay.from_estimator.\n",
      "  warnings.warn(msg, category=FutureWarning)\n"
     ]
    },
    {
     "data": {
      "image/png": "[encoded data removed]",
      "text/plain": [
       "<Figure size 640x480 with 2 Axes>"
      ]
     },
     "metadata": {},
     "output_type": "display_data"
    }
   ],
   "source": [
    "from locale import normalize\n",
    "from sklearn.metrics import plot_confusion_matrix\n",
    "\n",
    "plot_confusion_matrix(model , x_test ,  y_test ,  cmap=\"Blues\")\n",
    "plt.title(\"Confusion matrix for Naive Bayes model\")\n",
    "plt.savefig(\"/Users/anthonymoubarak/Desktop/anly-501-project-anthonymoub/501-project-website/Plots/confusion_matrix.png\")"
   ]
  }
 ],
 "metadata": {
  "kernelspec": {
   "display_name": "Python 3.9.6 64-bit",
   "language": "python",
   "name": "python3"
  },
  "language_info": {
   "codemirror_mode": {
    "name": "ipython",
    "version": 3
   },
   "file_extension": ".py",
   "mimetype": "text/x-python",
   "name": "python",
   "nbconvert_exporter": "python",
   "pygments_lexer": "ipython3",
   "version": "3.9.6"
  },
  "orig_nbformat": 4,
  "vscode": {
   "interpreter": {
    "hash": "31f2aee4e71d21fbe5cf8b01ff0e069b9275f58929596ceb00d14d90e3e16cd6"
   }
  }
 },
 "nbformat": 4,
 "nbformat_minor": 2
}
