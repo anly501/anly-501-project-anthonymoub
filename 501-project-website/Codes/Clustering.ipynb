{
 "cells": [
  {
   "cell_type": "markdown",
   "metadata": {},
   "source": [
    "# Clustering"
   ]
  },
  {
   "cell_type": "markdown",
   "metadata": {},
   "source": [
    "## Part One: Tutorial on only 2 features"
   ]
  },
  {
   "cell_type": "code",
   "execution_count": 2,
   "metadata": {},
   "outputs": [
    {
     "name": "stderr",
     "output_type": "stream",
     "text": [
      "/Users/anthonymoubarak/opt/anaconda3/lib/python3.9/site-packages/scipy/__init__.py:146: UserWarning: A NumPy version >=1.16.5 and <1.23.0 is required for this version of SciPy (detected version 1.23.4\n",
      "  warnings.warn(f\"A NumPy version >={np_minversion} and <{np_maxversion}\"\n"
     ]
    }
   ],
   "source": [
    "import pandas as pd\n",
    "import numpy as np\n",
    "import seaborn as sns\n",
    "import matplotlib.pyplot as plt\n",
    "import sklearn"
   ]
  },
  {
   "cell_type": "code",
   "execution_count": 3,
   "metadata": {},
   "outputs": [],
   "source": [
    "# Import dataset\n",
    "\n",
    "df = pd.read_csv('/Users/anthonymoubarak/Desktop/anly-501-project-anthonymoub/501-project-website/Data/final_df.csv')"
   ]
  },
  {
   "cell_type": "code",
   "execution_count": 4,
   "metadata": {},
   "outputs": [],
   "source": [
    "# The two features to be used for demonstrating this method will are speechiness and instrumentalness \n",
    "\n",
    "X = df[['speechiness' , 'instrumentalness']]\n",
    "\n",
    "\n"
   ]
  },
  {
   "cell_type": "code",
   "execution_count": 5,
   "metadata": {},
   "outputs": [],
   "source": [
    "from sklearn.preprocessing import StandardScaler\n",
    "\n",
    "object= StandardScaler()\n",
    "\n",
    "X_scaled = object.fit_transform(X) \n"
   ]
  },
  {
   "cell_type": "code",
   "execution_count": 6,
   "metadata": {},
   "outputs": [
    {
     "data": {
      "text/html": [
       "<div>\n",
       "<style scoped>\n",
       "    .dataframe tbody tr th:only-of-type {\n",
       "        vertical-align: middle;\n",
       "    }\n",
       "\n",
       "    .dataframe tbody tr th {\n",
       "        vertical-align: top;\n",
       "    }\n",
       "\n",
       "    .dataframe thead th {\n",
       "        text-align: right;\n",
       "    }\n",
       "</style>\n",
       "<table border=\"1\" class=\"dataframe\">\n",
       "  <thead>\n",
       "    <tr style=\"text-align: right;\">\n",
       "      <th></th>\n",
       "      <th>n_of_clusters</th>\n",
       "      <th>Inertia</th>\n",
       "      <th>Distortion</th>\n",
       "    </tr>\n",
       "  </thead>\n",
       "  <tbody>\n",
       "    <tr>\n",
       "      <th>0</th>\n",
       "      <td>2</td>\n",
       "      <td>5161.897754</td>\n",
       "      <td>0.695795</td>\n",
       "    </tr>\n",
       "    <tr>\n",
       "      <th>1</th>\n",
       "      <td>3</td>\n",
       "      <td>1879.763671</td>\n",
       "      <td>0.401738</td>\n",
       "    </tr>\n",
       "    <tr>\n",
       "      <th>2</th>\n",
       "      <td>4</td>\n",
       "      <td>1342.469800</td>\n",
       "      <td>0.315414</td>\n",
       "    </tr>\n",
       "    <tr>\n",
       "      <th>3</th>\n",
       "      <td>5</td>\n",
       "      <td>918.836887</td>\n",
       "      <td>0.288126</td>\n",
       "    </tr>\n",
       "    <tr>\n",
       "      <th>4</th>\n",
       "      <td>6</td>\n",
       "      <td>721.816767</td>\n",
       "      <td>0.250286</td>\n",
       "    </tr>\n",
       "    <tr>\n",
       "      <th>5</th>\n",
       "      <td>7</td>\n",
       "      <td>589.005322</td>\n",
       "      <td>0.230740</td>\n",
       "    </tr>\n",
       "    <tr>\n",
       "      <th>6</th>\n",
       "      <td>8</td>\n",
       "      <td>488.197844</td>\n",
       "      <td>0.206152</td>\n",
       "    </tr>\n",
       "    <tr>\n",
       "      <th>7</th>\n",
       "      <td>9</td>\n",
       "      <td>422.580501</td>\n",
       "      <td>0.197752</td>\n",
       "    </tr>\n",
       "    <tr>\n",
       "      <th>8</th>\n",
       "      <td>10</td>\n",
       "      <td>352.202403</td>\n",
       "      <td>0.169498</td>\n",
       "    </tr>\n",
       "  </tbody>\n",
       "</table>\n",
       "</div>"
      ],
      "text/plain": [
       "   n_of_clusters      Inertia  Distortion\n",
       "0              2  5161.897754    0.695795\n",
       "1              3  1879.763671    0.401738\n",
       "2              4  1342.469800    0.315414\n",
       "3              5   918.836887    0.288126\n",
       "4              6   721.816767    0.250286\n",
       "5              7   589.005322    0.230740\n",
       "6              8   488.197844    0.206152\n",
       "7              9   422.580501    0.197752\n",
       "8             10   352.202403    0.169498"
      ]
     },
     "execution_count": 6,
     "metadata": {},
     "output_type": "execute_result"
    }
   ],
   "source": [
    "# Check how many clusters to use for the KNN model\n",
    "\n",
    "from sklearn.cluster import KMeans\n",
    "from scipy.spatial.distance import cdist\n",
    "\n",
    "n_clusters = []\n",
    "inertia = []\n",
    "distortion = []\n",
    "K = range(2,11)\n",
    "\n",
    "for k in K:\n",
    "    kmeanModel = KMeans(n_clusters=k).fit(X_scaled)\n",
    "    kmeanModel.fit(X_scaled)\n",
    "    distortion.append(sum(np.min(cdist(X_scaled, kmeanModel.cluster_centers_,\n",
    "                                        'euclidean'), axis=1)) / X_scaled.shape[0])\n",
    "    n_clusters.append(k)\n",
    "    inertia.append(kmeanModel.inertia_)\n",
    "\n",
    "\n",
    "# Save results to a dataframe\n",
    "\n",
    "clustering_results = pd.DataFrame({'n_of_clusters':n_clusters , 'Inertia':inertia, 'Distortion':distortion})\n",
    "\n",
    "clustering_results"
   ]
  },
  {
   "cell_type": "code",
   "execution_count": 7,
   "metadata": {},
   "outputs": [
    {
     "data": {
      "text/plain": [
       "<matplotlib.legend.Legend at 0x7fc10198fe80>"
      ]
     },
     "execution_count": 7,
     "metadata": {},
     "output_type": "execute_result"
    },
    {
     "data": {
      "image/png": "[encoded data removed]",
      "text/plain": [
       "<Figure size 576x432 with 2 Axes>"
      ]
     },
     "metadata": {
      "needs_background": "light"
     },
     "output_type": "display_data"
    }
   ],
   "source": [
    "#plt.figure(figsize=(12,6))\n",
    "fig , axs = plt.subplots(2, 1, figsize = (8,6))\n",
    "axs[0].plot(clustering_results['n_of_clusters'], clustering_results['Inertia'] , 'tab:green')\n",
    "axs[1].plot(clustering_results['n_of_clusters'], clustering_results['Distortion'] , 'tab:orange')\n",
    "axs[0].legend([('Inertia')],loc=\"upper right\")\n",
    "axs[1].legend([('Distortion')],loc=\"upper right\")\n",
    "\n",
    " "
   ]
  },
  {
   "cell_type": "markdown",
   "metadata": {},
   "source": [
    "Using the elbow method, k=3 is the best number of clusters to use for this method."
   ]
  },
  {
   "cell_type": "code",
   "execution_count": 8,
   "metadata": {},
   "outputs": [
    {
     "name": "stderr",
     "output_type": "stream",
     "text": [
      "/var/folders/r_/fklxc5m54kl125_d3kkyjzp40000gn/T/ipykernel_43935/2384682599.py:9: SettingWithCopyWarning: \n",
      "A value is trying to be set on a copy of a slice from a DataFrame.\n",
      "Try using .loc[row_indexer,col_indexer] = value instead\n",
      "\n",
      "See the caveats in the documentation: https://pandas.pydata.org/pandas-docs/stable/user_guide/indexing.html#returning-a-view-versus-a-copy\n",
      "  X['cluster'] = y_kmeans\n"
     ]
    }
   ],
   "source": [
    "# Fit the model with k = 3 clusters\n",
    "kmeanModel = KMeans(n_clusters=3).fit(X_scaled)\n",
    "kmeanModel.fit(X_scaled)\n",
    "y_kmeans = kmeanModel.fit_predict(X)\n",
    "\n",
    "\n",
    "# Add a column to my dataset that assigns each data point with a cluster \n",
    "\n",
    "X['cluster'] = y_kmeans"
   ]
  },
  {
   "cell_type": "code",
   "execution_count": 13,
   "metadata": {},
   "outputs": [
    {
     "data": {
      "image/png": "[encoded data removed]",
      "text/plain": [
       "<Figure size 864x432 with 2 Axes>"
      ]
     },
     "metadata": {
      "needs_background": "light"
     },
     "output_type": "display_data"
    }
   ],
   "source": [
    "# Barplots for each of the above \n",
    "\n",
    "fig, axs = plt.subplots(1 , 2, figsize=(12, 6))\n",
    "ax1 = sns.scatterplot(data=X, x=\"speechiness\", y=\"instrumentalness\", ax= axs[0])\n",
    "ax2 = sns.scatterplot(data=X, x=\"speechiness\", y=\"instrumentalness\", hue=\"cluster\", ax = axs[1])\n",
    "fig.tight_layout(pad=5.0)\n",
    "ax1.title.set_text(\"Unclustered data\")\n",
    "ax2.title.set_text(\"Clustered data \")\n",
    "fig.savefig(\"/Users/anthonymoubarak/Desktop/anly-501-project-anthonymoub/501-project-website/Plots/Kmeans_results.png\" , facecolor='white')\n",
    "\n",
    " "
   ]
  },
  {
   "cell_type": "markdown",
   "metadata": {},
   "source": [
    "## Part Two: Using more than two features"
   ]
  },
  {
   "cell_type": "markdown",
   "metadata": {},
   "source": [
    "Part one was used as a sample explanation of k means and to give visual results of how the clustering would work. In reality, i would like to use most of the features i have to do so."
   ]
  },
  {
   "cell_type": "code",
   "execution_count": 14,
   "metadata": {},
   "outputs": [],
   "source": [
    "X2 = df[['fog_index','flesch_index', 'num_words', 'num_lines',  'f_k_grade',\n",
    "       'difficult_words', 'neg',  'danceability',\n",
    "       'energy', 'loudness',  'speechiness', 'acousticness',\n",
    "       'instrumentalness', 'liveness', 'valence', 'tempo', 'duration_ms']]"
   ]
  },
  {
   "cell_type": "markdown",
   "metadata": {},
   "source": [
    "Single value decomposotion (SVD)"
   ]
  },
  {
   "cell_type": "code",
   "execution_count": 15,
   "metadata": {},
   "outputs": [],
   "source": [
    "from sklearn.preprocessing import StandardScaler\n",
    "\n",
    "object= StandardScaler()\n",
    "\n",
    "X2_scaled = object.fit_transform(X2) \n"
   ]
  },
  {
   "cell_type": "code",
   "execution_count": 16,
   "metadata": {},
   "outputs": [
    {
     "data": {
      "text/plain": [
       "array([[-0.21853346, -0.35956603, -0.91244985, ..., -1.00796482,\n",
       "        -1.05386323, -0.32191369],\n",
       "       [-0.24790863, -0.41897475, -0.65638653, ..., -1.64268066,\n",
       "         1.78404344, -0.4734084 ],\n",
       "       [-0.21853346, -0.35956603, -0.95318719, ..., -1.18873832,\n",
       "        -1.04927142, -0.71612369],\n",
       "       ...,\n",
       "       [ 1.82781437,  4.4380344 , -1.42632235, ..., -0.77496786,\n",
       "         0.48087412, -0.25784663],\n",
       "       [ 5.32639719,  2.42386636, -0.87927801, ..., -0.2205958 ,\n",
       "        -1.11251775, -1.07565781],\n",
       "       [ 0.79160522,  2.43310567, -1.57355876, ..., -0.99591325,\n",
       "         0.3454995 , -0.44838146]])"
      ]
     },
     "execution_count": 16,
     "metadata": {},
     "output_type": "execute_result"
    }
   ],
   "source": [
    "X2_scaled"
   ]
  },
  {
   "cell_type": "code",
   "execution_count": 17,
   "metadata": {},
   "outputs": [
    {
     "data": {
      "text/html": [
       "<div>\n",
       "<style scoped>\n",
       "    .dataframe tbody tr th:only-of-type {\n",
       "        vertical-align: middle;\n",
       "    }\n",
       "\n",
       "    .dataframe tbody tr th {\n",
       "        vertical-align: top;\n",
       "    }\n",
       "\n",
       "    .dataframe thead th {\n",
       "        text-align: right;\n",
       "    }\n",
       "</style>\n",
       "<table border=\"1\" class=\"dataframe\">\n",
       "  <thead>\n",
       "    <tr style=\"text-align: right;\">\n",
       "      <th></th>\n",
       "      <th>n_of_clusters</th>\n",
       "      <th>Inertia</th>\n",
       "      <th>Distortion</th>\n",
       "    </tr>\n",
       "  </thead>\n",
       "  <tbody>\n",
       "    <tr>\n",
       "      <th>0</th>\n",
       "      <td>2</td>\n",
       "      <td>62053.061437</td>\n",
       "      <td>3.449462</td>\n",
       "    </tr>\n",
       "    <tr>\n",
       "      <th>1</th>\n",
       "      <td>3</td>\n",
       "      <td>53476.510903</td>\n",
       "      <td>3.170417</td>\n",
       "    </tr>\n",
       "    <tr>\n",
       "      <th>2</th>\n",
       "      <td>4</td>\n",
       "      <td>48479.910191</td>\n",
       "      <td>3.018764</td>\n",
       "    </tr>\n",
       "    <tr>\n",
       "      <th>3</th>\n",
       "      <td>5</td>\n",
       "      <td>44970.334403</td>\n",
       "      <td>2.951250</td>\n",
       "    </tr>\n",
       "    <tr>\n",
       "      <th>4</th>\n",
       "      <td>6</td>\n",
       "      <td>43173.957812</td>\n",
       "      <td>2.847969</td>\n",
       "    </tr>\n",
       "    <tr>\n",
       "      <th>5</th>\n",
       "      <td>7</td>\n",
       "      <td>39752.478540</td>\n",
       "      <td>2.781424</td>\n",
       "    </tr>\n",
       "    <tr>\n",
       "      <th>6</th>\n",
       "      <td>8</td>\n",
       "      <td>37912.492788</td>\n",
       "      <td>2.718936</td>\n",
       "    </tr>\n",
       "    <tr>\n",
       "      <th>7</th>\n",
       "      <td>9</td>\n",
       "      <td>35692.232316</td>\n",
       "      <td>2.652254</td>\n",
       "    </tr>\n",
       "    <tr>\n",
       "      <th>8</th>\n",
       "      <td>10</td>\n",
       "      <td>33999.649428</td>\n",
       "      <td>2.593414</td>\n",
       "    </tr>\n",
       "  </tbody>\n",
       "</table>\n",
       "</div>"
      ],
      "text/plain": [
       "   n_of_clusters       Inertia  Distortion\n",
       "0              2  62053.061437    3.449462\n",
       "1              3  53476.510903    3.170417\n",
       "2              4  48479.910191    3.018764\n",
       "3              5  44970.334403    2.951250\n",
       "4              6  43173.957812    2.847969\n",
       "5              7  39752.478540    2.781424\n",
       "6              8  37912.492788    2.718936\n",
       "7              9  35692.232316    2.652254\n",
       "8             10  33999.649428    2.593414"
      ]
     },
     "execution_count": 17,
     "metadata": {},
     "output_type": "execute_result"
    }
   ],
   "source": [
    "# Check how many clusters to use for the KNN model\n",
    "\n",
    "from sklearn.cluster import KMeans\n",
    "from scipy.spatial.distance import cdist\n",
    "\n",
    "n_clusters = []\n",
    "inertia = []\n",
    "distortion = []\n",
    "K = range(2,11)\n",
    "\n",
    "for k in K:\n",
    "    kmeanModel = KMeans(n_clusters=k).fit(X2_scaled)\n",
    "    kmeanModel.fit(X2_scaled)\n",
    "    distortion.append(sum(np.min(cdist(X2_scaled, kmeanModel.cluster_centers_,\n",
    "                                        'euclidean'), axis=1)) / X2_scaled.shape[0])\n",
    "    n_clusters.append(k)\n",
    "    inertia.append(kmeanModel.inertia_)\n",
    "\n",
    "\n",
    "# Save results to a dataframe\n",
    "\n",
    "clustering_results = pd.DataFrame({'n_of_clusters':n_clusters , 'Inertia':inertia, 'Distortion':distortion})\n",
    "\n",
    "clustering_results"
   ]
  },
  {
   "cell_type": "code",
   "execution_count": 18,
   "metadata": {},
   "outputs": [
    {
     "data": {
      "image/png": "[encoded data removed]",
      "text/plain": [
       "<Figure size 576x432 with 2 Axes>"
      ]
     },
     "metadata": {
      "needs_background": "light"
     },
     "output_type": "display_data"
    }
   ],
   "source": [
    "#plt.figure(figsize=(12,6))\n",
    "fig , axs = plt.subplots(2, 1, figsize = (8,6))\n",
    "axs[0].plot(clustering_results['n_of_clusters'], clustering_results['Inertia'] , 'tab:green')\n",
    "axs[1].plot(clustering_results['n_of_clusters'], clustering_results['Distortion'] , 'tab:orange')\n",
    "axs[0].legend([('Inertia')],loc=\"upper right\")\n",
    "axs[1].legend([('Distortion')],loc=\"upper right\")\n",
    "fig.savefig(\"/Users/anthonymoubarak/Desktop/anly-501-project-anthonymoub/501-project-website/Plots/elbow_plot.png\" , facecolor='white')\n",
    " "
   ]
  },
  {
   "cell_type": "markdown",
   "metadata": {},
   "source": [
    "3 clusters still seems to be the best option"
   ]
  },
  {
   "cell_type": "code",
   "execution_count": 50,
   "metadata": {},
   "outputs": [
    {
     "name": "stderr",
     "output_type": "stream",
     "text": [
      "/var/folders/r_/fklxc5m54kl125_d3kkyjzp40000gn/T/ipykernel_11236/2789875081.py:9: SettingWithCopyWarning: \n",
      "A value is trying to be set on a copy of a slice from a DataFrame.\n",
      "Try using .loc[row_indexer,col_indexer] = value instead\n",
      "\n",
      "See the caveats in the documentation: https://pandas.pydata.org/pandas-docs/stable/user_guide/indexing.html#returning-a-view-versus-a-copy\n",
      "  X2['cluster'] = y_kmeans\n"
     ]
    }
   ],
   "source": [
    "# Fit the model with k = 3 clusters\n",
    "kmeanModel = KMeans(n_clusters=3).fit(X2_scaled)\n",
    "kmeanModel.fit(X2_scaled)\n",
    "y_kmeans = kmeanModel.fit_predict(X2)\n",
    "\n",
    "\n",
    "# Add a column to my dataset that assigns each data point with a cluster \n",
    "\n",
    "X2['cluster'] = y_kmeans"
   ]
  },
  {
   "cell_type": "code",
   "execution_count": 135,
   "metadata": {},
   "outputs": [
    {
     "data": {
      "text/html": [
       "<div>\n",
       "<style scoped>\n",
       "    .dataframe tbody tr th:only-of-type {\n",
       "        vertical-align: middle;\n",
       "    }\n",
       "\n",
       "    .dataframe tbody tr th {\n",
       "        vertical-align: top;\n",
       "    }\n",
       "\n",
       "    .dataframe thead th {\n",
       "        text-align: right;\n",
       "    }\n",
       "</style>\n",
       "<table border=\"1\" class=\"dataframe\">\n",
       "  <thead>\n",
       "    <tr style=\"text-align: right;\">\n",
       "      <th></th>\n",
       "      <th>fog_index</th>\n",
       "      <th>flesch_index</th>\n",
       "      <th>num_words</th>\n",
       "      <th>num_lines</th>\n",
       "      <th>f_k_grade</th>\n",
       "      <th>difficult_words</th>\n",
       "      <th>neg</th>\n",
       "      <th>danceability</th>\n",
       "      <th>energy</th>\n",
       "      <th>loudness</th>\n",
       "      <th>speechiness</th>\n",
       "      <th>acousticness</th>\n",
       "      <th>instrumentalness</th>\n",
       "      <th>liveness</th>\n",
       "      <th>valence</th>\n",
       "      <th>tempo</th>\n",
       "      <th>duration_ms</th>\n",
       "      <th>cluster</th>\n",
       "    </tr>\n",
       "  </thead>\n",
       "  <tbody>\n",
       "    <tr>\n",
       "      <th>0</th>\n",
       "      <td>5.20</td>\n",
       "      <td>88.74</td>\n",
       "      <td>145.0</td>\n",
       "      <td>17.00</td>\n",
       "      <td>2.9</td>\n",
       "      <td>13</td>\n",
       "      <td>0.155</td>\n",
       "      <td>0.214</td>\n",
       "      <td>0.194</td>\n",
       "      <td>-15.636</td>\n",
       "      <td>0.0325</td>\n",
       "      <td>0.90300</td>\n",
       "      <td>0.000001</td>\n",
       "      <td>0.1070</td>\n",
       "      <td>0.339</td>\n",
       "      <td>86.198</td>\n",
       "      <td>207573.0</td>\n",
       "      <td>0</td>\n",
       "    </tr>\n",
       "    <tr>\n",
       "      <th>1</th>\n",
       "      <td>4.40</td>\n",
       "      <td>82.31</td>\n",
       "      <td>189.0</td>\n",
       "      <td>31.00</td>\n",
       "      <td>3.3</td>\n",
       "      <td>40</td>\n",
       "      <td>0.036</td>\n",
       "      <td>0.358</td>\n",
       "      <td>0.085</td>\n",
       "      <td>-13.664</td>\n",
       "      <td>0.0389</td>\n",
       "      <td>0.93900</td>\n",
       "      <td>0.000000</td>\n",
       "      <td>0.1600</td>\n",
       "      <td>0.181</td>\n",
       "      <td>170.869</td>\n",
       "      <td>198027.0</td>\n",
       "      <td>0</td>\n",
       "    </tr>\n",
       "    <tr>\n",
       "      <th>2</th>\n",
       "      <td>5.20</td>\n",
       "      <td>88.74</td>\n",
       "      <td>138.0</td>\n",
       "      <td>16.00</td>\n",
       "      <td>2.9</td>\n",
       "      <td>5</td>\n",
       "      <td>0.053</td>\n",
       "      <td>0.424</td>\n",
       "      <td>0.163</td>\n",
       "      <td>-15.899</td>\n",
       "      <td>0.0276</td>\n",
       "      <td>0.78400</td>\n",
       "      <td>0.000671</td>\n",
       "      <td>0.1160</td>\n",
       "      <td>0.294</td>\n",
       "      <td>86.335</td>\n",
       "      <td>182733.0</td>\n",
       "      <td>2</td>\n",
       "    </tr>\n",
       "    <tr>\n",
       "      <th>3</th>\n",
       "      <td>4.40</td>\n",
       "      <td>99.23</td>\n",
       "      <td>117.0</td>\n",
       "      <td>18.00</td>\n",
       "      <td>0.9</td>\n",
       "      <td>10</td>\n",
       "      <td>0.167</td>\n",
       "      <td>0.697</td>\n",
       "      <td>0.182</td>\n",
       "      <td>-12.586</td>\n",
       "      <td>0.0357</td>\n",
       "      <td>0.78000</td>\n",
       "      <td>0.000000</td>\n",
       "      <td>0.1260</td>\n",
       "      <td>0.474</td>\n",
       "      <td>82.184</td>\n",
       "      <td>158000.0</td>\n",
       "      <td>2</td>\n",
       "    </tr>\n",
       "    <tr>\n",
       "      <th>4</th>\n",
       "      <td>6.00</td>\n",
       "      <td>69.79</td>\n",
       "      <td>32.0</td>\n",
       "      <td>3.00</td>\n",
       "      <td>6.0</td>\n",
       "      <td>9</td>\n",
       "      <td>0.070</td>\n",
       "      <td>0.631</td>\n",
       "      <td>0.273</td>\n",
       "      <td>-11.538</td>\n",
       "      <td>0.0408</td>\n",
       "      <td>0.80100</td>\n",
       "      <td>0.000000</td>\n",
       "      <td>0.1580</td>\n",
       "      <td>0.633</td>\n",
       "      <td>123.314</td>\n",
       "      <td>190933.0</td>\n",
       "      <td>2</td>\n",
       "    </tr>\n",
       "    <tr>\n",
       "      <th>...</th>\n",
       "      <td>...</td>\n",
       "      <td>...</td>\n",
       "      <td>...</td>\n",
       "      <td>...</td>\n",
       "      <td>...</td>\n",
       "      <td>...</td>\n",
       "      <td>...</td>\n",
       "      <td>...</td>\n",
       "      <td>...</td>\n",
       "      <td>...</td>\n",
       "      <td>...</td>\n",
       "      <td>...</td>\n",
       "      <td>...</td>\n",
       "      <td>...</td>\n",
       "      <td>...</td>\n",
       "      <td>...</td>\n",
       "      <td>...</td>\n",
       "      <td>...</td>\n",
       "    </tr>\n",
       "    <tr>\n",
       "      <th>4411</th>\n",
       "      <td>38.12</td>\n",
       "      <td>381.00</td>\n",
       "      <td>35.7</td>\n",
       "      <td>8.59</td>\n",
       "      <td>35.7</td>\n",
       "      <td>11</td>\n",
       "      <td>0.036</td>\n",
       "      <td>0.623</td>\n",
       "      <td>0.790</td>\n",
       "      <td>-5.070</td>\n",
       "      <td>0.0473</td>\n",
       "      <td>0.11800</td>\n",
       "      <td>0.000000</td>\n",
       "      <td>0.2260</td>\n",
       "      <td>0.694</td>\n",
       "      <td>81.949</td>\n",
       "      <td>187684.0</td>\n",
       "      <td>2</td>\n",
       "    </tr>\n",
       "    <tr>\n",
       "      <th>4412</th>\n",
       "      <td>58.34</td>\n",
       "      <td>291.00</td>\n",
       "      <td>54.1</td>\n",
       "      <td>-33.92</td>\n",
       "      <td>54.1</td>\n",
       "      <td>6</td>\n",
       "      <td>0.066</td>\n",
       "      <td>0.659</td>\n",
       "      <td>0.683</td>\n",
       "      <td>-5.623</td>\n",
       "      <td>0.0312</td>\n",
       "      <td>0.51300</td>\n",
       "      <td>0.000005</td>\n",
       "      <td>0.1330</td>\n",
       "      <td>0.397</td>\n",
       "      <td>139.931</td>\n",
       "      <td>203373.0</td>\n",
       "      <td>0</td>\n",
       "    </tr>\n",
       "    <tr>\n",
       "      <th>4413</th>\n",
       "      <td>60.93</td>\n",
       "      <td>608.00</td>\n",
       "      <td>56.7</td>\n",
       "      <td>-40.51</td>\n",
       "      <td>56.7</td>\n",
       "      <td>25</td>\n",
       "      <td>0.091</td>\n",
       "      <td>0.878</td>\n",
       "      <td>0.475</td>\n",
       "      <td>-8.420</td>\n",
       "      <td>0.3240</td>\n",
       "      <td>0.00984</td>\n",
       "      <td>0.000000</td>\n",
       "      <td>0.1670</td>\n",
       "      <td>0.397</td>\n",
       "      <td>131.988</td>\n",
       "      <td>211610.0</td>\n",
       "      <td>0</td>\n",
       "    </tr>\n",
       "    <tr>\n",
       "      <th>4414</th>\n",
       "      <td>156.21</td>\n",
       "      <td>390.00</td>\n",
       "      <td>150.7</td>\n",
       "      <td>-290.54</td>\n",
       "      <td>150.7</td>\n",
       "      <td>18</td>\n",
       "      <td>0.140</td>\n",
       "      <td>0.550</td>\n",
       "      <td>0.637</td>\n",
       "      <td>-5.212</td>\n",
       "      <td>0.1630</td>\n",
       "      <td>0.59700</td>\n",
       "      <td>0.000000</td>\n",
       "      <td>0.1290</td>\n",
       "      <td>0.535</td>\n",
       "      <td>84.448</td>\n",
       "      <td>160078.0</td>\n",
       "      <td>2</td>\n",
       "    </tr>\n",
       "    <tr>\n",
       "      <th>4415</th>\n",
       "      <td>32.71</td>\n",
       "      <td>391.00</td>\n",
       "      <td>31.4</td>\n",
       "      <td>9.02</td>\n",
       "      <td>31.4</td>\n",
       "      <td>60</td>\n",
       "      <td>0.037</td>\n",
       "      <td>0.780</td>\n",
       "      <td>0.718</td>\n",
       "      <td>-3.605</td>\n",
       "      <td>0.0506</td>\n",
       "      <td>0.31000</td>\n",
       "      <td>0.000163</td>\n",
       "      <td>0.0932</td>\n",
       "      <td>0.342</td>\n",
       "      <td>127.949</td>\n",
       "      <td>199604.0</td>\n",
       "      <td>0</td>\n",
       "    </tr>\n",
       "  </tbody>\n",
       "</table>\n",
       "<p>4416 rows × 18 columns</p>\n",
       "</div>"
      ],
      "text/plain": [
       "      fog_index  flesch_index  num_words  num_lines  f_k_grade  \\\n",
       "0          5.20         88.74      145.0      17.00        2.9   \n",
       "1          4.40         82.31      189.0      31.00        3.3   \n",
       "2          5.20         88.74      138.0      16.00        2.9   \n",
       "3          4.40         99.23      117.0      18.00        0.9   \n",
       "4          6.00         69.79       32.0       3.00        6.0   \n",
       "...         ...           ...        ...        ...        ...   \n",
       "4411      38.12        381.00       35.7       8.59       35.7   \n",
       "4412      58.34        291.00       54.1     -33.92       54.1   \n",
       "4413      60.93        608.00       56.7     -40.51       56.7   \n",
       "4414     156.21        390.00      150.7    -290.54      150.7   \n",
       "4415      32.71        391.00       31.4       9.02       31.4   \n",
       "\n",
       "      difficult_words    neg  danceability  energy  loudness  speechiness  \\\n",
       "0                  13  0.155         0.214   0.194   -15.636       0.0325   \n",
       "1                  40  0.036         0.358   0.085   -13.664       0.0389   \n",
       "2                   5  0.053         0.424   0.163   -15.899       0.0276   \n",
       "3                  10  0.167         0.697   0.182   -12.586       0.0357   \n",
       "4                   9  0.070         0.631   0.273   -11.538       0.0408   \n",
       "...               ...    ...           ...     ...       ...          ...   \n",
       "4411               11  0.036         0.623   0.790    -5.070       0.0473   \n",
       "4412                6  0.066         0.659   0.683    -5.623       0.0312   \n",
       "4413               25  0.091         0.878   0.475    -8.420       0.3240   \n",
       "4414               18  0.140         0.550   0.637    -5.212       0.1630   \n",
       "4415               60  0.037         0.780   0.718    -3.605       0.0506   \n",
       "\n",
       "      acousticness  instrumentalness  liveness  valence    tempo  duration_ms  \\\n",
       "0          0.90300          0.000001    0.1070    0.339   86.198     207573.0   \n",
       "1          0.93900          0.000000    0.1600    0.181  170.869     198027.0   \n",
       "2          0.78400          0.000671    0.1160    0.294   86.335     182733.0   \n",
       "3          0.78000          0.000000    0.1260    0.474   82.184     158000.0   \n",
       "4          0.80100          0.000000    0.1580    0.633  123.314     190933.0   \n",
       "...            ...               ...       ...      ...      ...          ...   \n",
       "4411       0.11800          0.000000    0.2260    0.694   81.949     187684.0   \n",
       "4412       0.51300          0.000005    0.1330    0.397  139.931     203373.0   \n",
       "4413       0.00984          0.000000    0.1670    0.397  131.988     211610.0   \n",
       "4414       0.59700          0.000000    0.1290    0.535   84.448     160078.0   \n",
       "4415       0.31000          0.000163    0.0932    0.342  127.949     199604.0   \n",
       "\n",
       "      cluster  \n",
       "0           0  \n",
       "1           0  \n",
       "2           2  \n",
       "3           2  \n",
       "4           2  \n",
       "...       ...  \n",
       "4411        2  \n",
       "4412        0  \n",
       "4413        0  \n",
       "4414        2  \n",
       "4415        0  \n",
       "\n",
       "[4416 rows x 18 columns]"
      ]
     },
     "execution_count": 135,
     "metadata": {},
     "output_type": "execute_result"
    }
   ],
   "source": [
    "df_knn_clustered = X2\n",
    "df_knn_clustered"
   ]
  },
  {
   "cell_type": "markdown",
   "metadata": {},
   "source": [
    "# Part Three: DBSCAN clustering"
   ]
  },
  {
   "cell_type": "code",
   "execution_count": 24,
   "metadata": {},
   "outputs": [],
   "source": [
    "# Define a hyperparameter optimization function \n",
    "\n",
    "def maximize_silhouette(X,algo=\"birch\",nmax=20,i_plot=False):\n",
    "\n",
    "    # PARAM\n",
    "    i_print=False\n",
    "\n",
    "    #FORCE CONTIGUOUS\n",
    "    X=np.ascontiguousarray(X) \n",
    "\n",
    "    # LOOP OVER HYPER-PARAM\n",
    "    params=[]; sil_scores=[]\n",
    "    sil_max=-10\n",
    "    for param in range(2,nmax+1):\n",
    "        if(algo==\"birch\"):\n",
    "            model = sklearn.cluster.Birch(n_clusters=param).fit(X)\n",
    "            labels=model.predict(X)\n",
    "\n",
    "        if(algo==\"ag\"):\n",
    "            model = sklearn.cluster.AgglomerativeClustering(n_clusters=param).fit(X)\n",
    "            labels=model.labels_\n",
    "\n",
    "        if(algo==\"dbscan\"):\n",
    "            param=0.5*(param-1)\n",
    "            model = sklearn.cluster.DBSCAN(eps=param).fit(X)\n",
    "            labels=model.labels_\n",
    "\n",
    "        if(algo==\"kmeans\"):\n",
    "            model = sklearn.cluster.KMeans(n_clusters=param).fit(X)\n",
    "            labels=model.predict(X)\n",
    "\n",
    "        try:\n",
    "            sil_scores.append(sklearn.metrics.silhouette_score(X,labels))\n",
    "            params.append(param)\n",
    "        except:\n",
    "            continue \n",
    "\n",
    "        if(i_print): print(param,sil_scores[-1])\n",
    "        \n",
    "        if(sil_scores[-1]>sil_max):\n",
    "             opt_param=param\n",
    "             sil_max=sil_scores[-1]\n",
    "             opt_labels=labels\n",
    "\n",
    "    print(\"OPTIMAL PARAMETER =\",opt_param)\n",
    "\n",
    "    if(i_plot):\n",
    "        fig, ax = plt.subplots(figsize=(8,6))\n",
    "        ax.plot(params, sil_scores, \"-o\")  \n",
    "        ax.set(xlabel='Hyper-parameter', ylabel='Silhouette')\n",
    "        fig.savefig(\"/Users/anthonymoubarak/Desktop/anly-501-project-anthonymoub/501-project-website/Plots/HC_elbow.png\" , facecolor='white')\n",
    "        \n",
    "        plt.show()\n",
    "\n",
    "    return opt_labels"
   ]
  },
  {
   "cell_type": "code",
   "execution_count": 23,
   "metadata": {},
   "outputs": [
    {
     "name": "stdout",
     "output_type": "stream",
     "text": [
      "OPTIMAL PARAMETER = 6.0\n"
     ]
    },
    {
     "data": {
      "image/png": "[encoded data removed]",
      "text/plain": [
       "<Figure size 576x432 with 1 Axes>"
      ]
     },
     "metadata": {
      "needs_background": "light"
     },
     "output_type": "display_data"
    }
   ],
   "source": [
    "# Run function for DBSCAN\n",
    "\n",
    "# perform DBSCAN clustering. use the eps and min_samples parameters to find the optimal number of clusters. plot the number of clusters vs the silhouette score. Suggest the optimal number of clusters based on the plot.\n",
    "from sklearn.metrics import silhouette_samples, silhouette_score\n",
    "\n",
    "opt_labels=maximize_silhouette(X2_scaled,algo=\"dbscan\",nmax=15, i_plot=True)\n",
    "\n",
    " "
   ]
  },
  {
   "cell_type": "code",
   "execution_count": 375,
   "metadata": {},
   "outputs": [],
   "source": [
    "# Train the optimal DBSCAN  model \n",
    "\n",
    "from sklearn.cluster import DBSCAN\n",
    "\n",
    "optimal_dbscan = sklearn.cluster.DBSCAN(eps=5 , min_samples=5).fit(X2_scaled)"
   ]
  },
  {
   "cell_type": "code",
   "execution_count": 376,
   "metadata": {},
   "outputs": [],
   "source": [
    "y = optimal_dbscan.fit_predict(X2_scaled)"
   ]
  },
  {
   "cell_type": "code",
   "execution_count": 377,
   "metadata": {},
   "outputs": [
    {
     "name": "stderr",
     "output_type": "stream",
     "text": [
      "/var/folders/r_/fklxc5m54kl125_d3kkyjzp40000gn/T/ipykernel_11236/2956947858.py:2: SettingWithCopyWarning: \n",
      "A value is trying to be set on a copy of a slice from a DataFrame.\n",
      "Try using .loc[row_indexer,col_indexer] = value instead\n",
      "\n",
      "See the caveats in the documentation: https://pandas.pydata.org/pandas-docs/stable/user_guide/indexing.html#returning-a-view-versus-a-copy\n",
      "  df_dbscan_clustered['cluster'] = y\n"
     ]
    },
    {
     "data": {
      "text/plain": [
       " 0    4372\n",
       " 1      41\n",
       "-1       3\n",
       "Name: cluster, dtype: int64"
      ]
     },
     "execution_count": 377,
     "metadata": {},
     "output_type": "execute_result"
    }
   ],
   "source": [
    "df_dbscan_clustered = X\n",
    "df_dbscan_clustered['cluster'] = y\n",
    "df_dbscan_clustered['cluster'].value_counts()"
   ]
  },
  {
   "cell_type": "markdown",
   "metadata": {},
   "source": [
    "# Part Four: Hierarchical Clustering"
   ]
  },
  {
   "cell_type": "code",
   "execution_count": 26,
   "metadata": {},
   "outputs": [
    {
     "name": "stdout",
     "output_type": "stream",
     "text": [
      "OPTIMAL PARAMETER = 2\n"
     ]
    },
    {
     "data": {
      "image/png": "[encoded data removed]",
      "text/plain": [
       "<Figure size 576x432 with 1 Axes>"
      ]
     },
     "metadata": {
      "needs_background": "light"
     },
     "output_type": "display_data"
    }
   ],
   "source": [
    "# AGGLOMERATIVE CLUSTERING\n",
    "\n",
    "\n",
    "opt_labels=maximize_silhouette(X2_scaled,algo=\"ag\",nmax=15, i_plot=True)"
   ]
  },
  {
   "cell_type": "code",
   "execution_count": 27,
   "metadata": {},
   "outputs": [],
   "source": [
    "from sklearn.cluster import AgglomerativeClustering\n",
    "hc_model = sklearn.cluster.AgglomerativeClustering(n_clusters=2, compute_distances=True ).fit(X2_scaled)"
   ]
  },
  {
   "cell_type": "code",
   "execution_count": 28,
   "metadata": {},
   "outputs": [
    {
     "data": {
      "text/plain": [
       "array([0, 0, 0, ..., 1, 1, 1])"
      ]
     },
     "execution_count": 28,
     "metadata": {},
     "output_type": "execute_result"
    }
   ],
   "source": [
    "hc_model.labels_"
   ]
  },
  {
   "cell_type": "code",
   "execution_count": 30,
   "metadata": {},
   "outputs": [
    {
     "data": {
      "image/png": "[encoded data removed]",
      "text/plain": [
       "<Figure size 864x720 with 1 Axes>"
      ]
     },
     "metadata": {
      "needs_background": "light"
     },
     "output_type": "display_data"
    }
   ],
   "source": [
    "# create linkage for agglomerative clustering, and the dendrogram for the linkage. Suggest the optimal number of clusters based on the dendrogram.\n",
    "from scipy.cluster.hierarchy import dendrogram\n",
    "from sklearn.cluster import AgglomerativeClustering\n",
    "\n",
    "def plot_dendrogram(model, **kwargs):\n",
    "    # Create linkage matrix and then plot the dendrogram\n",
    "\n",
    "    # create the counts of samples under each node\n",
    "    counts = np.zeros(model.children_.shape[0])\n",
    "    n_samples = len(model.labels_)\n",
    "    for i, merge in enumerate(model.children_):\n",
    "        current_count = 0\n",
    "        for child_idx in merge:\n",
    "            if child_idx < n_samples:\n",
    "                current_count += 1  # leaf node\n",
    "            else:\n",
    "                current_count += counts[child_idx - n_samples]\n",
    "        counts[i] = current_count\n",
    "\n",
    "    linkage_matrix = np.column_stack(\n",
    "        [model.children_, model.distances_, counts]\n",
    "    ).astype(float)\n",
    "\n",
    "    # Plot the corresponding dendrogram\n",
    "    dendrogram(linkage_matrix, **kwargs)\n",
    "plt.figure(figsize=(12,10))\n",
    "plt.title(\"Hierarchical Clustering Dendrogram\")\n",
    "plot_dendrogram(hc_model, truncate_mode=\"level\", p=3)\n",
    "plt.xlabel(\"Number of points in node (or index of point if no parenthesis).\")\n",
    "plt.axhline(y = 125, color = 'r', linestyle = '-')\n",
    "plt.savefig(\"/Users/anthonymoubarak/Desktop/anly-501-project-anthonymoub/501-project-website/Plots/dendogram.png\" , facecolor='white')"
   ]
  },
  {
   "cell_type": "code",
   "execution_count": 149,
   "metadata": {},
   "outputs": [
    {
     "name": "stderr",
     "output_type": "stream",
     "text": [
      "/var/folders/r_/fklxc5m54kl125_d3kkyjzp40000gn/T/ipykernel_11236/2615444012.py:2: SettingWithCopyWarning: \n",
      "A value is trying to be set on a copy of a slice from a DataFrame.\n",
      "Try using .loc[row_indexer,col_indexer] = value instead\n",
      "\n",
      "See the caveats in the documentation: https://pandas.pydata.org/pandas-docs/stable/user_guide/indexing.html#returning-a-view-versus-a-copy\n",
      "  df_hc_clustered['cluster'] = hc_model.labels_\n"
     ]
    },
    {
     "data": {
      "text/html": [
       "<div>\n",
       "<style scoped>\n",
       "    .dataframe tbody tr th:only-of-type {\n",
       "        vertical-align: middle;\n",
       "    }\n",
       "\n",
       "    .dataframe tbody tr th {\n",
       "        vertical-align: top;\n",
       "    }\n",
       "\n",
       "    .dataframe thead th {\n",
       "        text-align: right;\n",
       "    }\n",
       "</style>\n",
       "<table border=\"1\" class=\"dataframe\">\n",
       "  <thead>\n",
       "    <tr style=\"text-align: right;\">\n",
       "      <th></th>\n",
       "      <th>fog_index</th>\n",
       "      <th>flesch_index</th>\n",
       "      <th>num_words</th>\n",
       "      <th>num_lines</th>\n",
       "      <th>f_k_grade</th>\n",
       "      <th>difficult_words</th>\n",
       "      <th>neg</th>\n",
       "      <th>danceability</th>\n",
       "      <th>energy</th>\n",
       "      <th>loudness</th>\n",
       "      <th>speechiness</th>\n",
       "      <th>acousticness</th>\n",
       "      <th>instrumentalness</th>\n",
       "      <th>liveness</th>\n",
       "      <th>valence</th>\n",
       "      <th>tempo</th>\n",
       "      <th>duration_ms</th>\n",
       "      <th>cluster</th>\n",
       "    </tr>\n",
       "  </thead>\n",
       "  <tbody>\n",
       "    <tr>\n",
       "      <th>0</th>\n",
       "      <td>5.20</td>\n",
       "      <td>88.74</td>\n",
       "      <td>145.0</td>\n",
       "      <td>17.00</td>\n",
       "      <td>2.9</td>\n",
       "      <td>13</td>\n",
       "      <td>0.155</td>\n",
       "      <td>0.214</td>\n",
       "      <td>0.194</td>\n",
       "      <td>-15.636</td>\n",
       "      <td>0.0325</td>\n",
       "      <td>0.90300</td>\n",
       "      <td>0.000001</td>\n",
       "      <td>0.1070</td>\n",
       "      <td>0.339</td>\n",
       "      <td>86.198</td>\n",
       "      <td>207573.0</td>\n",
       "      <td>0</td>\n",
       "    </tr>\n",
       "    <tr>\n",
       "      <th>1</th>\n",
       "      <td>4.40</td>\n",
       "      <td>82.31</td>\n",
       "      <td>189.0</td>\n",
       "      <td>31.00</td>\n",
       "      <td>3.3</td>\n",
       "      <td>40</td>\n",
       "      <td>0.036</td>\n",
       "      <td>0.358</td>\n",
       "      <td>0.085</td>\n",
       "      <td>-13.664</td>\n",
       "      <td>0.0389</td>\n",
       "      <td>0.93900</td>\n",
       "      <td>0.000000</td>\n",
       "      <td>0.1600</td>\n",
       "      <td>0.181</td>\n",
       "      <td>170.869</td>\n",
       "      <td>198027.0</td>\n",
       "      <td>0</td>\n",
       "    </tr>\n",
       "    <tr>\n",
       "      <th>2</th>\n",
       "      <td>5.20</td>\n",
       "      <td>88.74</td>\n",
       "      <td>138.0</td>\n",
       "      <td>16.00</td>\n",
       "      <td>2.9</td>\n",
       "      <td>5</td>\n",
       "      <td>0.053</td>\n",
       "      <td>0.424</td>\n",
       "      <td>0.163</td>\n",
       "      <td>-15.899</td>\n",
       "      <td>0.0276</td>\n",
       "      <td>0.78400</td>\n",
       "      <td>0.000671</td>\n",
       "      <td>0.1160</td>\n",
       "      <td>0.294</td>\n",
       "      <td>86.335</td>\n",
       "      <td>182733.0</td>\n",
       "      <td>0</td>\n",
       "    </tr>\n",
       "    <tr>\n",
       "      <th>3</th>\n",
       "      <td>4.40</td>\n",
       "      <td>99.23</td>\n",
       "      <td>117.0</td>\n",
       "      <td>18.00</td>\n",
       "      <td>0.9</td>\n",
       "      <td>10</td>\n",
       "      <td>0.167</td>\n",
       "      <td>0.697</td>\n",
       "      <td>0.182</td>\n",
       "      <td>-12.586</td>\n",
       "      <td>0.0357</td>\n",
       "      <td>0.78000</td>\n",
       "      <td>0.000000</td>\n",
       "      <td>0.1260</td>\n",
       "      <td>0.474</td>\n",
       "      <td>82.184</td>\n",
       "      <td>158000.0</td>\n",
       "      <td>0</td>\n",
       "    </tr>\n",
       "    <tr>\n",
       "      <th>4</th>\n",
       "      <td>6.00</td>\n",
       "      <td>69.79</td>\n",
       "      <td>32.0</td>\n",
       "      <td>3.00</td>\n",
       "      <td>6.0</td>\n",
       "      <td>9</td>\n",
       "      <td>0.070</td>\n",
       "      <td>0.631</td>\n",
       "      <td>0.273</td>\n",
       "      <td>-11.538</td>\n",
       "      <td>0.0408</td>\n",
       "      <td>0.80100</td>\n",
       "      <td>0.000000</td>\n",
       "      <td>0.1580</td>\n",
       "      <td>0.633</td>\n",
       "      <td>123.314</td>\n",
       "      <td>190933.0</td>\n",
       "      <td>0</td>\n",
       "    </tr>\n",
       "    <tr>\n",
       "      <th>...</th>\n",
       "      <td>...</td>\n",
       "      <td>...</td>\n",
       "      <td>...</td>\n",
       "      <td>...</td>\n",
       "      <td>...</td>\n",
       "      <td>...</td>\n",
       "      <td>...</td>\n",
       "      <td>...</td>\n",
       "      <td>...</td>\n",
       "      <td>...</td>\n",
       "      <td>...</td>\n",
       "      <td>...</td>\n",
       "      <td>...</td>\n",
       "      <td>...</td>\n",
       "      <td>...</td>\n",
       "      <td>...</td>\n",
       "      <td>...</td>\n",
       "      <td>...</td>\n",
       "    </tr>\n",
       "    <tr>\n",
       "      <th>4411</th>\n",
       "      <td>38.12</td>\n",
       "      <td>381.00</td>\n",
       "      <td>35.7</td>\n",
       "      <td>8.59</td>\n",
       "      <td>35.7</td>\n",
       "      <td>11</td>\n",
       "      <td>0.036</td>\n",
       "      <td>0.623</td>\n",
       "      <td>0.790</td>\n",
       "      <td>-5.070</td>\n",
       "      <td>0.0473</td>\n",
       "      <td>0.11800</td>\n",
       "      <td>0.000000</td>\n",
       "      <td>0.2260</td>\n",
       "      <td>0.694</td>\n",
       "      <td>81.949</td>\n",
       "      <td>187684.0</td>\n",
       "      <td>1</td>\n",
       "    </tr>\n",
       "    <tr>\n",
       "      <th>4412</th>\n",
       "      <td>58.34</td>\n",
       "      <td>291.00</td>\n",
       "      <td>54.1</td>\n",
       "      <td>-33.92</td>\n",
       "      <td>54.1</td>\n",
       "      <td>6</td>\n",
       "      <td>0.066</td>\n",
       "      <td>0.659</td>\n",
       "      <td>0.683</td>\n",
       "      <td>-5.623</td>\n",
       "      <td>0.0312</td>\n",
       "      <td>0.51300</td>\n",
       "      <td>0.000005</td>\n",
       "      <td>0.1330</td>\n",
       "      <td>0.397</td>\n",
       "      <td>139.931</td>\n",
       "      <td>203373.0</td>\n",
       "      <td>1</td>\n",
       "    </tr>\n",
       "    <tr>\n",
       "      <th>4413</th>\n",
       "      <td>60.93</td>\n",
       "      <td>608.00</td>\n",
       "      <td>56.7</td>\n",
       "      <td>-40.51</td>\n",
       "      <td>56.7</td>\n",
       "      <td>25</td>\n",
       "      <td>0.091</td>\n",
       "      <td>0.878</td>\n",
       "      <td>0.475</td>\n",
       "      <td>-8.420</td>\n",
       "      <td>0.3240</td>\n",
       "      <td>0.00984</td>\n",
       "      <td>0.000000</td>\n",
       "      <td>0.1670</td>\n",
       "      <td>0.397</td>\n",
       "      <td>131.988</td>\n",
       "      <td>211610.0</td>\n",
       "      <td>1</td>\n",
       "    </tr>\n",
       "    <tr>\n",
       "      <th>4414</th>\n",
       "      <td>156.21</td>\n",
       "      <td>390.00</td>\n",
       "      <td>150.7</td>\n",
       "      <td>-290.54</td>\n",
       "      <td>150.7</td>\n",
       "      <td>18</td>\n",
       "      <td>0.140</td>\n",
       "      <td>0.550</td>\n",
       "      <td>0.637</td>\n",
       "      <td>-5.212</td>\n",
       "      <td>0.1630</td>\n",
       "      <td>0.59700</td>\n",
       "      <td>0.000000</td>\n",
       "      <td>0.1290</td>\n",
       "      <td>0.535</td>\n",
       "      <td>84.448</td>\n",
       "      <td>160078.0</td>\n",
       "      <td>1</td>\n",
       "    </tr>\n",
       "    <tr>\n",
       "      <th>4415</th>\n",
       "      <td>32.71</td>\n",
       "      <td>391.00</td>\n",
       "      <td>31.4</td>\n",
       "      <td>9.02</td>\n",
       "      <td>31.4</td>\n",
       "      <td>60</td>\n",
       "      <td>0.037</td>\n",
       "      <td>0.780</td>\n",
       "      <td>0.718</td>\n",
       "      <td>-3.605</td>\n",
       "      <td>0.0506</td>\n",
       "      <td>0.31000</td>\n",
       "      <td>0.000163</td>\n",
       "      <td>0.0932</td>\n",
       "      <td>0.342</td>\n",
       "      <td>127.949</td>\n",
       "      <td>199604.0</td>\n",
       "      <td>1</td>\n",
       "    </tr>\n",
       "  </tbody>\n",
       "</table>\n",
       "<p>4416 rows × 18 columns</p>\n",
       "</div>"
      ],
      "text/plain": [
       "      fog_index  flesch_index  num_words  num_lines  f_k_grade  \\\n",
       "0          5.20         88.74      145.0      17.00        2.9   \n",
       "1          4.40         82.31      189.0      31.00        3.3   \n",
       "2          5.20         88.74      138.0      16.00        2.9   \n",
       "3          4.40         99.23      117.0      18.00        0.9   \n",
       "4          6.00         69.79       32.0       3.00        6.0   \n",
       "...         ...           ...        ...        ...        ...   \n",
       "4411      38.12        381.00       35.7       8.59       35.7   \n",
       "4412      58.34        291.00       54.1     -33.92       54.1   \n",
       "4413      60.93        608.00       56.7     -40.51       56.7   \n",
       "4414     156.21        390.00      150.7    -290.54      150.7   \n",
       "4415      32.71        391.00       31.4       9.02       31.4   \n",
       "\n",
       "      difficult_words    neg  danceability  energy  loudness  speechiness  \\\n",
       "0                  13  0.155         0.214   0.194   -15.636       0.0325   \n",
       "1                  40  0.036         0.358   0.085   -13.664       0.0389   \n",
       "2                   5  0.053         0.424   0.163   -15.899       0.0276   \n",
       "3                  10  0.167         0.697   0.182   -12.586       0.0357   \n",
       "4                   9  0.070         0.631   0.273   -11.538       0.0408   \n",
       "...               ...    ...           ...     ...       ...          ...   \n",
       "4411               11  0.036         0.623   0.790    -5.070       0.0473   \n",
       "4412                6  0.066         0.659   0.683    -5.623       0.0312   \n",
       "4413               25  0.091         0.878   0.475    -8.420       0.3240   \n",
       "4414               18  0.140         0.550   0.637    -5.212       0.1630   \n",
       "4415               60  0.037         0.780   0.718    -3.605       0.0506   \n",
       "\n",
       "      acousticness  instrumentalness  liveness  valence    tempo  duration_ms  \\\n",
       "0          0.90300          0.000001    0.1070    0.339   86.198     207573.0   \n",
       "1          0.93900          0.000000    0.1600    0.181  170.869     198027.0   \n",
       "2          0.78400          0.000671    0.1160    0.294   86.335     182733.0   \n",
       "3          0.78000          0.000000    0.1260    0.474   82.184     158000.0   \n",
       "4          0.80100          0.000000    0.1580    0.633  123.314     190933.0   \n",
       "...            ...               ...       ...      ...      ...          ...   \n",
       "4411       0.11800          0.000000    0.2260    0.694   81.949     187684.0   \n",
       "4412       0.51300          0.000005    0.1330    0.397  139.931     203373.0   \n",
       "4413       0.00984          0.000000    0.1670    0.397  131.988     211610.0   \n",
       "4414       0.59700          0.000000    0.1290    0.535   84.448     160078.0   \n",
       "4415       0.31000          0.000163    0.0932    0.342  127.949     199604.0   \n",
       "\n",
       "      cluster  \n",
       "0           0  \n",
       "1           0  \n",
       "2           0  \n",
       "3           0  \n",
       "4           0  \n",
       "...       ...  \n",
       "4411        1  \n",
       "4412        1  \n",
       "4413        1  \n",
       "4414        1  \n",
       "4415        1  \n",
       "\n",
       "[4416 rows x 18 columns]"
      ]
     },
     "execution_count": 149,
     "metadata": {},
     "output_type": "execute_result"
    }
   ],
   "source": [
    "df_hc_clustered = X\n",
    "df_hc_clustered['cluster'] = hc_model.labels_\n",
    "df_hc_clustered"
   ]
  },
  {
   "cell_type": "markdown",
   "metadata": {},
   "source": [
    "# Part Five: Testing for multiple feature combinations (Feature selection)"
   ]
  },
  {
   "cell_type": "code",
   "execution_count": 32,
   "metadata": {},
   "outputs": [],
   "source": [
    "all_possible_features = ['fog_index','flesch_index', 'num_words', 'num_lines',  'f_k_grade',\n",
    "       'difficult_words', 'neg',  'danceability',\n",
    "       'energy', 'loudness',  'speechiness', 'acousticness',\n",
    "       'instrumentalness', 'liveness', 'valence', 'tempo', 'duration_ms']"
   ]
  },
  {
   "cell_type": "code",
   "execution_count": 33,
   "metadata": {},
   "outputs": [],
   "source": [
    "# Function that returns all subsets of a string\n",
    "# Credit: https://stackoverflow.com/questions/1482308/how-to-get-all-subsets-of-a-set-powerset\n",
    "from itertools import chain, combinations\n",
    "\n",
    "def powerset(seq):\n",
    "    \"\"\"\n",
    "    Returns all the subsets of this set. This is a generator.\n",
    "    \"\"\"\n",
    "    if len(seq) <= 1:\n",
    "        yield seq\n",
    "        yield []\n",
    "    else:\n",
    "        for item in powerset(seq[1:]):\n",
    "            yield [seq[0]]+item\n",
    "            yield item"
   ]
  },
  {
   "cell_type": "code",
   "execution_count": 34,
   "metadata": {},
   "outputs": [],
   "source": [
    "# Get all possible subsets and remove all subsets with only 1 variable \n",
    "r = [x for x in powerset(all_possible_features)]\n",
    "\n",
    "for i in r:\n",
    "    if len(i) == 1:\n",
    "        r.remove(i)\n",
    "    \n"
   ]
  },
  {
   "cell_type": "code",
   "execution_count": 35,
   "metadata": {},
   "outputs": [],
   "source": [
    "r.sort(key=len)"
   ]
  },
  {
   "cell_type": "code",
   "execution_count": 36,
   "metadata": {},
   "outputs": [
    {
     "data": {
      "text/plain": [
       "[['num_lines', 'difficult_words', 'valence', 'duration_ms'],\n",
       " ['fog_index', 'num_words', 'num_lines', 'neg', 'duration_ms'],\n",
       " ['fog_index',\n",
       "  'flesch_index',\n",
       "  'danceability',\n",
       "  'liveness',\n",
       "  'tempo',\n",
       "  'duration_ms'],\n",
       " ['neg',\n",
       "  'energy',\n",
       "  'speechiness',\n",
       "  'acousticness',\n",
       "  'liveness',\n",
       "  'valence',\n",
       "  'tempo'],\n",
       " ['fog_index',\n",
       "  'flesch_index',\n",
       "  'num_words',\n",
       "  'num_lines',\n",
       "  'danceability',\n",
       "  'loudness',\n",
       "  'liveness',\n",
       "  'valence',\n",
       "  'tempo'],\n",
       " ['fog_index',\n",
       "  'num_words',\n",
       "  'f_k_grade',\n",
       "  'difficult_words',\n",
       "  'neg',\n",
       "  'danceability',\n",
       "  'loudness',\n",
       "  'instrumentalness',\n",
       "  'liveness',\n",
       "  'duration_ms'],\n",
       " ['fog_index',\n",
       "  'flesch_index',\n",
       "  'num_words',\n",
       "  'num_lines',\n",
       "  'f_k_grade',\n",
       "  'difficult_words',\n",
       "  'neg',\n",
       "  'energy',\n",
       "  'loudness',\n",
       "  'acousticness',\n",
       "  'instrumentalness',\n",
       "  'valence',\n",
       "  'tempo']]"
      ]
     },
     "execution_count": 36,
     "metadata": {},
     "output_type": "execute_result"
    }
   ],
   "source": [
    "options = [r[1000], r[5000], r[10000],r[30000], r[80000], r[100000], r[130000]]\n",
    "options"
   ]
  },
  {
   "cell_type": "code",
   "execution_count": 37,
   "metadata": {},
   "outputs": [],
   "source": [
    "# Loop over each subset, train knn (k=3) and append inertia for each subset of features \n",
    "\n",
    "subset = []\n",
    "\n",
    "inertia = []\n",
    "\n",
    "\n",
    "for i in range(0,len(options)):\n",
    "\n",
    "    subset.append(options[i])\n",
    "\n",
    "    X = df[options[i]]\n",
    "\n",
    "    object= StandardScaler()\n",
    "\n",
    "    X_scaled = object.fit_transform(X) \n",
    "\n",
    "    kmeanModel = KMeans(n_clusters=3).fit(X_scaled)\n",
    "\n",
    "    kmeanModel.fit(X_scaled)\n",
    "    \n",
    "    inertia.append(kmeanModel.inertia_)\n",
    "    "
   ]
  },
  {
   "cell_type": "code",
   "execution_count": 38,
   "metadata": {},
   "outputs": [
    {
     "data": {
      "text/html": [
       "<div>\n",
       "<style scoped>\n",
       "    .dataframe tbody tr th:only-of-type {\n",
       "        vertical-align: middle;\n",
       "    }\n",
       "\n",
       "    .dataframe tbody tr th {\n",
       "        vertical-align: top;\n",
       "    }\n",
       "\n",
       "    .dataframe thead th {\n",
       "        text-align: right;\n",
       "    }\n",
       "</style>\n",
       "<table border=\"1\" class=\"dataframe\">\n",
       "  <thead>\n",
       "    <tr style=\"text-align: right;\">\n",
       "      <th></th>\n",
       "      <th>Subset</th>\n",
       "      <th>Inertia</th>\n",
       "    </tr>\n",
       "  </thead>\n",
       "  <tbody>\n",
       "    <tr>\n",
       "      <th>0</th>\n",
       "      <td>[num_lines, difficult_words, valence, duration...</td>\n",
       "      <td>11049.911238</td>\n",
       "    </tr>\n",
       "    <tr>\n",
       "      <th>1</th>\n",
       "      <td>[fog_index, num_words, num_lines, neg, duratio...</td>\n",
       "      <td>11279.052789</td>\n",
       "    </tr>\n",
       "    <tr>\n",
       "      <th>2</th>\n",
       "      <td>[fog_index, flesch_index, danceability, livene...</td>\n",
       "      <td>17105.479826</td>\n",
       "    </tr>\n",
       "    <tr>\n",
       "      <th>3</th>\n",
       "      <td>[neg, energy, speechiness, acousticness, liven...</td>\n",
       "      <td>21903.391280</td>\n",
       "    </tr>\n",
       "    <tr>\n",
       "      <th>4</th>\n",
       "      <td>[fog_index, flesch_index, num_words, num_lines...</td>\n",
       "      <td>25658.906873</td>\n",
       "    </tr>\n",
       "    <tr>\n",
       "      <th>5</th>\n",
       "      <td>[fog_index, num_words, f_k_grade, difficult_wo...</td>\n",
       "      <td>31004.693540</td>\n",
       "    </tr>\n",
       "    <tr>\n",
       "      <th>6</th>\n",
       "      <td>[fog_index, flesch_index, num_words, num_lines...</td>\n",
       "      <td>37079.721760</td>\n",
       "    </tr>\n",
       "  </tbody>\n",
       "</table>\n",
       "</div>"
      ],
      "text/plain": [
       "                                              Subset       Inertia\n",
       "0  [num_lines, difficult_words, valence, duration...  11049.911238\n",
       "1  [fog_index, num_words, num_lines, neg, duratio...  11279.052789\n",
       "2  [fog_index, flesch_index, danceability, livene...  17105.479826\n",
       "3  [neg, energy, speechiness, acousticness, liven...  21903.391280\n",
       "4  [fog_index, flesch_index, num_words, num_lines...  25658.906873\n",
       "5  [fog_index, num_words, f_k_grade, difficult_wo...  31004.693540\n",
       "6  [fog_index, flesch_index, num_words, num_lines...  37079.721760"
      ]
     },
     "execution_count": 38,
     "metadata": {},
     "output_type": "execute_result"
    }
   ],
   "source": [
    "subset_inertia = pd.DataFrame({'Subset':subset , 'Inertia':inertia})\n",
    "\n",
    "subset_inertia"
   ]
  },
  {
   "cell_type": "code",
   "execution_count": 39,
   "metadata": {},
   "outputs": [
    {
     "data": {
      "text/plain": [
       "['num_lines', 'difficult_words', 'valence', 'duration_ms']"
      ]
     },
     "execution_count": 39,
     "metadata": {},
     "output_type": "execute_result"
    }
   ],
   "source": [
    "# Get best feature subset (lowest inertia)\n",
    "\n",
    "subset_inertia[subset_inertia['Inertia'] == subset_inertia['Inertia'].min()]['Subset'][0]"
   ]
  },
  {
   "cell_type": "markdown",
   "metadata": {},
   "source": [
    "# Part Six: Fitting models with best feature subset"
   ]
  },
  {
   "cell_type": "code",
   "execution_count": 40,
   "metadata": {},
   "outputs": [],
   "source": [
    "# Filter on optimal_subset\n",
    "optimal_subset = subset_inertia[subset_inertia['Inertia'] == subset_inertia['Inertia'].min()]['Subset'][0]\n",
    "df_optimal = df[optimal_subset]"
   ]
  },
  {
   "cell_type": "code",
   "execution_count": 41,
   "metadata": {},
   "outputs": [],
   "source": [
    "from sklearn.preprocessing import StandardScaler\n",
    "\n",
    "object= StandardScaler()\n",
    "\n",
    "df_optimal_scaled = object.fit_transform(df_optimal) "
   ]
  },
  {
   "cell_type": "code",
   "execution_count": 42,
   "metadata": {},
   "outputs": [],
   "source": [
    "# Train all three models on optimal feature subset \n",
    "\n",
    "#Kmeans\n",
    "kmeanModel_optimal_features = KMeans(n_clusters=3).fit(df_optimal_scaled)\n",
    "kmeanModel_optimal_features.fit(df_optimal_scaled)\n",
    "\n",
    "#DBSCAN\n",
    "dbscan_optimal_features = sklearn.cluster.DBSCAN(eps=5 , min_samples=5).fit(df_optimal_scaled)\n",
    "\n",
    "#Hierarchical\n",
    "hc_model_optimal_features = sklearn.cluster.AgglomerativeClustering(n_clusters=2, compute_distances=True ).fit(df_optimal_scaled)"
   ]
  },
  {
   "cell_type": "code",
   "execution_count": 43,
   "metadata": {},
   "outputs": [
    {
     "name": "stderr",
     "output_type": "stream",
     "text": [
      "/var/folders/r_/fklxc5m54kl125_d3kkyjzp40000gn/T/ipykernel_43935/1777148525.py:3: SettingWithCopyWarning: \n",
      "A value is trying to be set on a copy of a slice from a DataFrame.\n",
      "Try using .loc[row_indexer,col_indexer] = value instead\n",
      "\n",
      "See the caveats in the documentation: https://pandas.pydata.org/pandas-docs/stable/user_guide/indexing.html#returning-a-view-versus-a-copy\n",
      "  df_optimal['Clusters'] = kmeanModel_optimal_features.fit_predict(df_optimal_scaled)\n"
     ]
    }
   ],
   "source": [
    "# Pick the hierarchical model since it has the lowest number of clusters \n",
    "\n",
    "df_optimal['Clusters'] = kmeanModel_optimal_features.fit_predict(df_optimal_scaled)"
   ]
  },
  {
   "cell_type": "code",
   "execution_count": 44,
   "metadata": {},
   "outputs": [
    {
     "data": {
      "text/plain": [
       "1    2416\n",
       "0    1843\n",
       "2     157\n",
       "Name: Clusters, dtype: int64"
      ]
     },
     "execution_count": 44,
     "metadata": {},
     "output_type": "execute_result"
    }
   ],
   "source": [
    "df_optimal['Clusters'].value_counts()"
   ]
  },
  {
   "cell_type": "markdown",
   "metadata": {},
   "source": [
    "# Part Seven: Result Analysis"
   ]
  },
  {
   "cell_type": "code",
   "execution_count": 45,
   "metadata": {},
   "outputs": [],
   "source": [
    "df['Clusters'] = df_optimal['Clusters']"
   ]
  },
  {
   "cell_type": "code",
   "execution_count": 46,
   "metadata": {},
   "outputs": [
    {
     "name": "stderr",
     "output_type": "stream",
     "text": [
      "/var/folders/r_/fklxc5m54kl125_d3kkyjzp40000gn/T/ipykernel_43935/4003335120.py:10: SettingWithCopyWarning: \n",
      "A value is trying to be set on a copy of a slice from a DataFrame\n",
      "\n",
      "See the caveats in the documentation: https://pandas.pydata.org/pandas-docs/stable/user_guide/indexing.html#returning-a-view-versus-a-copy\n",
      "  df['decade'][i] = \"50s\"\n",
      "/var/folders/r_/fklxc5m54kl125_d3kkyjzp40000gn/T/ipykernel_43935/4003335120.py:13: SettingWithCopyWarning: \n",
      "A value is trying to be set on a copy of a slice from a DataFrame\n",
      "\n",
      "See the caveats in the documentation: https://pandas.pydata.org/pandas-docs/stable/user_guide/indexing.html#returning-a-view-versus-a-copy\n",
      "  df['decade'][i] = \"60s\"\n",
      "/var/folders/r_/fklxc5m54kl125_d3kkyjzp40000gn/T/ipykernel_43935/4003335120.py:16: SettingWithCopyWarning: \n",
      "A value is trying to be set on a copy of a slice from a DataFrame\n",
      "\n",
      "See the caveats in the documentation: https://pandas.pydata.org/pandas-docs/stable/user_guide/indexing.html#returning-a-view-versus-a-copy\n",
      "  df['decade'][i] = \"70s\"\n",
      "/var/folders/r_/fklxc5m54kl125_d3kkyjzp40000gn/T/ipykernel_43935/4003335120.py:19: SettingWithCopyWarning: \n",
      "A value is trying to be set on a copy of a slice from a DataFrame\n",
      "\n",
      "See the caveats in the documentation: https://pandas.pydata.org/pandas-docs/stable/user_guide/indexing.html#returning-a-view-versus-a-copy\n",
      "  df['decade'][i] = \"80s\"\n",
      "/var/folders/r_/fklxc5m54kl125_d3kkyjzp40000gn/T/ipykernel_43935/4003335120.py:22: SettingWithCopyWarning: \n",
      "A value is trying to be set on a copy of a slice from a DataFrame\n",
      "\n",
      "See the caveats in the documentation: https://pandas.pydata.org/pandas-docs/stable/user_guide/indexing.html#returning-a-view-versus-a-copy\n",
      "  df['decade'][i] = \"90s\"\n",
      "/var/folders/r_/fklxc5m54kl125_d3kkyjzp40000gn/T/ipykernel_43935/4003335120.py:25: SettingWithCopyWarning: \n",
      "A value is trying to be set on a copy of a slice from a DataFrame\n",
      "\n",
      "See the caveats in the documentation: https://pandas.pydata.org/pandas-docs/stable/user_guide/indexing.html#returning-a-view-versus-a-copy\n",
      "  df['decade'][i] = \"00s\"\n",
      "/var/folders/r_/fklxc5m54kl125_d3kkyjzp40000gn/T/ipykernel_43935/4003335120.py:28: SettingWithCopyWarning: \n",
      "A value is trying to be set on a copy of a slice from a DataFrame\n",
      "\n",
      "See the caveats in the documentation: https://pandas.pydata.org/pandas-docs/stable/user_guide/indexing.html#returning-a-view-versus-a-copy\n",
      "  df['decade'][i] = \"2010s\"\n"
     ]
    }
   ],
   "source": [
    "# Analyze how both clusters have changed over the years and what differentiates them from each other \n",
    "\n",
    "# Convert years to decade \n",
    "\n",
    "df['decade'] = ''\n",
    "\n",
    "for i in range(len(df)):\n",
    "\n",
    "    if ((df['year'][i] >= 1950) & (df['year'][i] < 1960)):\n",
    "        df['decade'][i] = \"50s\"\n",
    "\n",
    "    elif ((df['year'][i] >= 1960) & (df['year'][i] < 1970)):\n",
    "        df['decade'][i] = \"60s\" \n",
    "\n",
    "    elif ((df['year'][i] >= 1970) & (df['year'][i] < 1980)):\n",
    "        df['decade'][i] = \"70s\" \n",
    "\n",
    "    elif ((df['year'][i] >= 1980) & (df['year'][i] < 1990)):\n",
    "        df['decade'][i] = \"80s\" \n",
    "\n",
    "    elif ((df['year'][i] >= 1990) & (df['year'][i] < 2000)):\n",
    "        df['decade'][i] = \"90s\" \n",
    "\n",
    "    elif ((df['year'][i] >= 2000) & (df['year'][i] < 2010)):\n",
    "        df['decade'][i] = \"00s\" \n",
    "\n",
    "    else:\n",
    "        df['decade'][i] = \"2010s\""
   ]
  },
  {
   "cell_type": "code",
   "execution_count": 47,
   "metadata": {},
   "outputs": [],
   "source": [
    "\n",
    "# Create a dataframe for each decade \n",
    "\n",
    "df_50 = df[df['decade'] == '50s']\n",
    "df_60 = df[df['decade'] == '60s']\n",
    "df_70 = df[df['decade'] == '70s']\n",
    "df_80 = df[df['decade'] == '80s']\n",
    "df_90 = df[df['decade'] == '90s']\n",
    "df_00 = df[df['decade'] == '00s']\n",
    "df_2010 = df[df['decade'] == '2010s']"
   ]
  },
  {
   "cell_type": "code",
   "execution_count": 49,
   "metadata": {},
   "outputs": [
    {
     "data": {
      "image/png": "[encoded data removed]",
      "text/plain": [
       "<Figure size 936x720 with 1 Axes>"
      ]
     },
     "metadata": {
      "needs_background": "light"
     },
     "output_type": "display_data"
    }
   ],
   "source": [
    "# Create a dataframe of cluster distribution per decade\n",
    "\n",
    "cluster_distribution = pd.DataFrame({'Decade': ['50s' , '60s' , \"70s\", \"80s\", \"90s\", \"00s\", \"2010s\"],\n",
    "'Cluster 0': [40 , 28, 36, 40, 51, 46, 44],\n",
    "'Cluster 1': [60 , 72, 64, 60, 49, 54, 37],\n",
    "'Cluster 2': [0,0,0,0,0,0,19]})\n",
    "\n",
    "\n",
    "cluster_distribution.plot(kind='bar', stacked=True, color=['#e64fac', '#fa89c9', '#f04d4a' , 'darkorange', 'darkgreen' ,\n",
    " 'darkcyan', 'silver'], figsize=(13,10))\n",
    " # Add Title and Labels\n",
    "plt.title('Distribution of music genre per decade')\n",
    "plt.xlabel('Decade')\n",
    "plt.ylabel('Percentage')\n",
    "x = [0 ,1, 2, 3, 4, 5, 6]\n",
    "labels = ['50s', '60s', '70s', '80s', '90s', '00s' , '2010s']\n",
    "plt.xticks(x, labels, rotation = 45)\n",
    "plt.legend(bbox_to_anchor=(1.02, 1), loc='upper left', borderaxespad=0)\n",
    "plt.savefig(\"/Users/anthonymoubarak/Desktop/anly-501-project-anthonymoub/501-project-website/Plots/Results.png\" , facecolor='white')"
   ]
  },
  {
   "cell_type": "code",
   "execution_count": 50,
   "metadata": {},
   "outputs": [],
   "source": [
    "# Understand the attributes of each cluster \n",
    "\n",
    "cluster0 = df[df['Clusters'] == 0]\n",
    "cluster1 = df[df['Clusters'] == 1]\n",
    "cluster2 = df[df['Clusters'] == 2]\n"
   ]
  },
  {
   "cell_type": "code",
   "execution_count": 51,
   "metadata": {},
   "outputs": [],
   "source": [
    "# Keep only the audio features related columns \n",
    "\n",
    "audio_columns = [ 'danceability',\n",
    "       'energy', 'loudness',  'speechiness', 'acousticness',\n",
    "       'instrumentalness', 'liveness', 'valence', 'tempo', 'duration_ms', 'Clusters']\n",
    "\n",
    "cluster0 = cluster0[audio_columns]\n",
    "cluster1 = cluster1[audio_columns]\n",
    "cluster2 = cluster2[audio_columns]\n"
   ]
  },
  {
   "cell_type": "code",
   "execution_count": 52,
   "metadata": {},
   "outputs": [],
   "source": [
    "# Normalize all the cluster datasets \n",
    "cluster0.iloc[:,0:-1] = cluster0.iloc[:,0:-1].apply(lambda x: (x-x.mean())/ x.std(), axis=0)\n",
    "cluster1.iloc[:,0:-1] = cluster1.iloc[:,0:-1].apply(lambda x: (x-x.mean())/ x.std(), axis=0)\n",
    "cluster2.iloc[:,0:-1] = cluster2.iloc[:,0:-1].apply(lambda x: (x-x.mean())/ x.std(), axis=0)"
   ]
  },
  {
   "cell_type": "code",
   "execution_count": 54,
   "metadata": {},
   "outputs": [
    {
     "data": {
      "image/png": "[encoded data removed]",
      "text/plain": [
       "<Figure size 576x576 with 1 Axes>"
      ]
     },
     "metadata": {
      "needs_background": "light"
     },
     "output_type": "display_data"
    },
    {
     "data": {
      "text/plain": [
       "<Figure size 432x288 with 0 Axes>"
      ]
     },
     "metadata": {},
     "output_type": "display_data"
    }
   ],
   "source": [
    "categories = ['danceability',\n",
    "       'energy', 'loudness',  'speechiness', 'acousticness',\n",
    "       'instrumentalness', 'liveness', 'valence', 'tempo', 'duration_ms']\n",
    "categories = [*categories, categories[0]]\n",
    "\n",
    "cluster_1 = [cluster1['danceability'].mean(), cluster1['energy'].mean(), cluster1['loudness'].mean(), cluster1['speechiness'].mean(), cluster1['acousticness'].mean(),\n",
    "cluster1['instrumentalness'].mean(), cluster1['liveness'].mean(), cluster1['valence'].mean(), cluster1['tempo'].mean(), cluster1['duration_ms'].mean()]\n",
    "\n",
    "cluster_2 = [cluster2['danceability'].mean(), cluster2['energy'].mean(), cluster2['loudness'].mean(), cluster2['speechiness'].mean(), cluster2['acousticness'].mean(),\n",
    "cluster2['instrumentalness'].mean(), cluster2['liveness'].mean(), cluster2['valence'].mean(), cluster2['tempo'].mean(), cluster2['duration_ms'].mean()]\n",
    "\n",
    "cluster_0 = [cluster0['danceability'].mean(), cluster0['energy'].mean(), cluster0['loudness'].mean(), cluster0['speechiness'].mean(), cluster0['acousticness'].mean(),\n",
    "cluster0['instrumentalness'].mean(), cluster0['liveness'].mean(), cluster0['valence'].mean(), cluster0['tempo'].mean(), cluster0['duration_ms'].mean()]\n",
    "\n",
    "cluster_1 = [*cluster_1, cluster_1[0]]\n",
    "cluster_2 = [*cluster_2, cluster_2[0]]\n",
    "cluster_0 = [*cluster_0, cluster_0[0]]\n",
    "\n",
    "label_loc = np.linspace(start=0, stop=2 * np.pi, num=len(cluster_1))\n",
    "\n",
    "plt.figure(figsize=(8, 8))\n",
    "plt.subplot(polar=True)\n",
    "plt.plot(label_loc, cluster_1, label='Cluster 0')\n",
    "plt.plot(label_loc, cluster_2, label='Cluster 1')\n",
    "plt.plot(label_loc, cluster_0, label='Cluster 2')\n",
    "plt.title('Cluster comparison', size=20, y=1.05)\n",
    "lines, labels = plt.thetagrids(np.degrees(label_loc), labels=categories)\n",
    "plt.legend()\n",
    "plt.show()\n",
    "plt.savefig(\"/Users/anthonymoubarak/Desktop/anly-501-project-anthonymoub/501-project-website/Plots/cluster_comp.png\" , facecolor='white')"
   ]
  },
  {
   "cell_type": "code",
   "execution_count": null,
   "metadata": {},
   "outputs": [],
   "source": []
  }
 ],
 "metadata": {
  "kernelspec": {
   "display_name": "Python 3.9.12 ('base')",
   "language": "python",
   "name": "python3"
  },
  "language_info": {
   "codemirror_mode": {
    "name": "ipython",
    "version": 3
   },
   "file_extension": ".py",
   "mimetype": "text/x-python",
   "name": "python",
   "nbconvert_exporter": "python",
   "pygments_lexer": "ipython3",
   "version": "3.9.12"
  },
  "orig_nbformat": 4,
  "vscode": {
   "interpreter": {
    "hash": "800c20685ebf747f507546423ff4d263b4008f72e3e4745b54bd163839c9b25f"
   }
  }
 },
 "nbformat": 4,
 "nbformat_minor": 2
}
