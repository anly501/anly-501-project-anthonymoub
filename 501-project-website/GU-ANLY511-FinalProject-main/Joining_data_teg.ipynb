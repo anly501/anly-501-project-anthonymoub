{
  "cells": [
    {
      "cell_type": "code",
      "execution_count": 2,
      "metadata": {
        "id": "2GczEgksyhes"
      },
      "outputs": [],
      "source": [
        "import numpy as np\n",
        "import pandas as pd\n",
        "from haversine import haversine, Unit\n",
        "from datetime import datetime"
      ]
    },
    {
      "cell_type": "code",
      "execution_count": 3,
      "metadata": {
        "id": "0z9U8J51yhet",
        "outputId": "2a92ea7c-93e1-4f92-f4b6-e1a6f2af463a"
      },
      "outputs": [
        {
          "name": "stderr",
          "output_type": "stream",
          "text": [
            "/var/folders/r6/q0qh39ts70582wth4g1dhjhm0000gn/T/ipykernel_84440/3189617253.py:7: DtypeWarning: Columns (5,7) have mixed types. Specify dtype option on import or set low_memory=False.\n",
            "  df_2021 = pd.read_csv('../Data/2021/2021_all.csv')\n"
          ]
        }
      ],
      "source": [
        "df_2016 = pd.read_csv('../Data/2016/df_2016_geospatial.csv')\n",
        "df_2017 = pd.read_csv('../Data/2017/df_2017_geospatial.csv')\n",
        "df_2018 = pd.read_csv('../Data/2018/df_2018_geospatial.csv')\n",
        "df_2019 = pd.read_csv('../Data/2019/df_2019_geospatial.csv')\n",
        "df_2020_p1 = pd.read_csv('../Data/2020_Jan_March/df_2020_Jan_March_geospatial.csv')  \n",
        "df_2020_p2 = pd.read_csv('../Data/2020_April_Dec/df_2020_April_Dec_geospatial.csv')\n",
        "df_2021 = pd.read_csv('../Data/2021/2021_all.csv')\n",
        "df_2022 = pd.read_csv('../Data/2022/2022_all.csv')"
      ]
    },
    {
      "cell_type": "code",
      "execution_count": 4,
      "metadata": {},
      "outputs": [
        {
          "data": {
            "text/plain": [
              "Index(['Duration', 'Start.date', 'End.date', 'Start.station.number',\n",
              "       'Start.station', 'End.station.number', 'End.station', 'Bike.number',\n",
              "       'Member.type', 'start_lat', 'start_lng', 'end_lat', 'end_lng'],\n",
              "      dtype='object')"
            ]
          },
          "execution_count": 4,
          "metadata": {},
          "output_type": "execute_result"
        }
      ],
      "source": [
        "df_2019.columns # remove bike number and replace w ridable_type"
      ]
    },
    {
      "cell_type": "code",
      "execution_count": 5,
      "metadata": {},
      "outputs": [
        {
          "data": {
            "text/plain": [
              "Index(['ride_id', 'rideable_type', 'started_at', 'ended_at',\n",
              "       'start_station_name', 'start_station_id', 'end_station_name',\n",
              "       'end_station_id', 'start_lat', 'start_lng', 'end_lat', 'end_lng',\n",
              "       'member_casual'],\n",
              "      dtype='object')"
            ]
          },
          "execution_count": 5,
          "metadata": {},
          "output_type": "execute_result"
        }
      ],
      "source": [
        "df_2020_p2.columns # remove ride_id and replace w duration"
      ]
    },
    {
      "cell_type": "code",
      "execution_count": 6,
      "metadata": {},
      "outputs": [],
      "source": [
        "df_2016=df_2016.rename(columns={'Bike.number':'rideable_type'})\n",
        "df_2017=df_2017.rename(columns={'Bike.number':'rideable_type'})\n",
        "df_2018=df_2018.rename(columns={'Bike.number':'rideable_type'})\n",
        "df_2019=df_2019.rename(columns={'Bike.number':'rideable_type'})\n",
        "df_2020_p1=df_2020_p1.rename(columns={'Bike.number':'rideable_type'})\n",
        "\n",
        "df_2016['rideable_type'] = 'classic_bike'\n",
        "df_2017['rideable_type'] = 'classic_bike'\n",
        "df_2018['rideable_type'] = 'classic_bike'\n",
        "df_2019['rideable_type'] = 'classic_bike'\n",
        "df_2020_p1['rideable_type'] = 'classic_bike'"
      ]
    },
    {
      "cell_type": "code",
      "execution_count": 7,
      "metadata": {},
      "outputs": [],
      "source": [
        "df_2020_p2=df_2020_p2.rename(columns={'ride_id':'Duration'})\n",
        "df_2021=df_2021.rename(columns={'ride_id':'Duration'})\n",
        "df_2022=df_2022.rename(columns={'ride_id':'Duration'})"
      ]
    },
    {
      "cell_type": "code",
      "execution_count": 8,
      "metadata": {},
      "outputs": [
        {
          "data": {
            "text/plain": [
              "Index(['Duration', 'Start.date', 'End.date', 'Start.station.number',\n",
              "       'Start.station', 'End.station.number', 'End.station', 'rideable_type',\n",
              "       'Member.type', 'start_lat', 'start_lng', 'end_lat', 'end_lng'],\n",
              "      dtype='object')"
            ]
          },
          "execution_count": 8,
          "metadata": {},
          "output_type": "execute_result"
        }
      ],
      "source": [
        "df_2020_p1.columns"
      ]
    },
    {
      "cell_type": "code",
      "execution_count": 9,
      "metadata": {
        "id": "lk8fjbj1yheu"
      },
      "outputs": [],
      "source": [
        "# Clean some of the dataframes \n",
        "\n",
        "\n",
        "df_2021 = df_2021.rename(columns={'member_casual':'Member.type'})\n",
        "\n",
        "df_2022 = df_2022.rename(columns={'member_casual':'Member.type'})\n",
        "\n",
        "df_2020_p2 = df_2020_p2.rename(columns={'member_casual':'Member.type'})\n",
        "\n",
        "\n",
        "df_2021 = df_2021.rename(columns={'started_at':'Start.date' , 'ended_at':'End.date', 'start_station_name':'Start.station',\n",
        "'start_station_id':'Start.station.number' , 'end_station_name': 'End.station', 'end_station_id':'End.station.number'})\n",
        "\n",
        "df_2022 = df_2022.rename(columns={'started_at':'Start.date' , 'ended_at':'End.date', 'start_station_name':'Start.station',\n",
        "'start_station_id':'Start.station.number' , 'end_station_name': 'End.station', 'end_station_id':'End.station.number'})\n",
        "\n",
        "df_2020_p2 = df_2020_p2.rename(columns={'started_at':'Start.date' , 'ended_at':'End.date', 'start_station_name':'Start.station',\n",
        "'start_station_id':'Start.station.number' , 'end_station_name': 'End.station', 'end_station_id':'End.station.number'})\n",
        "\n",
        "\n",
        "# Add a duration column to df_2021, df_2022, df_2020_p2\n",
        "\n",
        "df_2022['Start.date'] = pd.to_datetime(df_2022['Start.date'])\n",
        "\n",
        "df_2022['End.date'] = pd.to_datetime(df_2022['End.date'])\n",
        "\n",
        "df_2022['Duration'] = ((df_2022['End.date']  - df_2022['Start.date']).dt.total_seconds()).astype('int')\n",
        "df_2022['Duration'] = df_2022['Duration']/60\n",
        "\n",
        "df_2021['Start.date'] = pd.to_datetime(df_2021['Start.date'])\n",
        "\n",
        "df_2021['End.date'] = pd.to_datetime(df_2021['End.date'])\n",
        "\n",
        "df_2021['Duration'] = ((df_2021['End.date']  - df_2021['Start.date']).dt.total_seconds()).astype('int')\n",
        "df_2021['Duration'] = df_2021['Duration']/60\n",
        "\n",
        "df_2020_p2['Start.date'] = pd.to_datetime(df_2020_p2['Start.date'])\n",
        "\n",
        "df_2020_p2['End.date'] = pd.to_datetime(df_2020_p2['End.date'])\n",
        "\n",
        "df_2020_p2['Duration'] = ((df_2020_p2['End.date']  - df_2020_p2['Start.date']).dt.total_seconds()).astype('int')\n",
        "df_2020_p2['Duration'] = df_2020_p2['Duration']/60\n",
        "\n",
        "df_2016['Duration']=df_2016['Duration']/60\n",
        "df_2017['Duration']=df_2017['Duration']/60\n",
        "df_2018['Duration']=df_2018['Duration']/60\n",
        "df_2019['Duration']=df_2019['Duration']/60\n",
        "df_2020_p1['Duration']=df_2020_p1['Duration']/60\n",
        "\n",
        "# Reorder columns for dataframes 2021 and 2022\n",
        "\n",
        "df_2021 = df_2021[['Duration', 'Start.date', 'End.date', 'Start.station.number',\n",
        "       'Start.station', 'End.station.number', 'End.station', 'rideable_type', 'Member.type',\n",
        "       'start_lat', 'start_lng', 'end_lat', 'end_lng']]\n",
        "\n",
        "df_2022 = df_2022[['Duration', 'Start.date', 'End.date', 'Start.station.number',\n",
        "'Start.station', 'End.station.number', 'End.station', 'rideable_type', 'Member.type',\n",
        "'start_lat', 'start_lng', 'end_lat', 'end_lng']]\n",
        "\n",
        "df_2020_p2 = df_2020_p2[['Duration', 'Start.date', 'End.date', 'Start.station.number',\n",
        "'Start.station', 'End.station.number', 'End.station', 'rideable_type', 'Member.type',\n",
        "'start_lat', 'start_lng', 'end_lat', 'end_lng']]"
      ]
    },
    {
      "cell_type": "code",
      "execution_count": 10,
      "metadata": {
        "id": "b8-4yU1cyhev"
      },
      "outputs": [],
      "source": [
        "# Sample from each dataframe while keeping the same proportion of Station number \n",
        "\n",
        "df_2016_sample = df_2016.groupby('Start.station.number', as_index = False).apply(lambda x: x.sample(frac=0.1))\n",
        "df_2017_sample = df_2017.groupby('Start.station.number', as_index = False).apply(lambda x: x.sample(frac=0.1))\n",
        "df_2018_sample = df_2018.groupby('Start.station.number', as_index = False).apply(lambda x: x.sample(frac=0.1))\n",
        "df_2019_sample = df_2019.groupby('Start.station.number', as_index = False).apply(lambda x: x.sample(frac=0.1))\n",
        "df_2020_p1_sample = df_2020_p1.groupby('Start.station.number', as_index = False).apply(lambda x: x.sample(frac=0.1))\n",
        "df_2020_p2_sample = df_2020_p2.groupby('Start.station.number', as_index = False).apply(lambda x: x.sample(frac=0.1))\n",
        "df_2021_sample = df_2021.groupby('Start.station.number', as_index = False).apply(lambda x: x.sample(frac=0.1))\n",
        "df_2022_sample = df_2022.groupby('Start.station.number', as_index = False).apply(lambda x: x.sample(frac=0.1))\n"
      ]
    },
    {
      "cell_type": "code",
      "execution_count": 11,
      "metadata": {
        "id": "iRZzOO3Byhev"
      },
      "outputs": [],
      "source": [
        "# Merge the datasets with each other \n",
        "\n",
        "combined_df = pd.concat([df_2016_sample , df_2017_sample, df_2018_sample,df_2019_sample, df_2020_p1_sample, df_2020_p2_sample,\n",
        "df_2021_sample, df_2022_sample] , axis = 0)\n"
      ]
    },
    {
      "cell_type": "code",
      "execution_count": 12,
      "metadata": {
        "id": "4xVjjbVOyhev"
      },
      "outputs": [],
      "source": [
        "def calc_distance(data):\n",
        "    pickup = (data['start_lat'], data['start_lng'])\n",
        "    drop = (data['end_lat'], data['end_lng'])\n",
        "    return haversine(pickup, drop,unit=Unit.MILES)\n",
        "combined_df['distance_miles'] = combined_df.apply(lambda x: calc_distance(x), axis = 1)"
      ]
    },
    {
      "cell_type": "code",
      "execution_count": 13,
      "metadata": {},
      "outputs": [
        {
          "data": {
            "text/plain": [
              "(2131930, 14)"
            ]
          },
          "execution_count": 13,
          "metadata": {},
          "output_type": "execute_result"
        }
      ],
      "source": [
        "combined_df.shape"
      ]
    },
    {
      "cell_type": "code",
      "execution_count": 14,
      "metadata": {},
      "outputs": [
        {
          "data": {
            "text/plain": [
              "Index(['Duration', 'Start.date', 'End.date', 'Start.station.number',\n",
              "       'Start.station', 'End.station.number', 'End.station', 'rideable_type',\n",
              "       'Member.type', 'start_lat', 'start_lng', 'end_lat', 'end_lng',\n",
              "       'distance_miles'],\n",
              "      dtype='object')"
            ]
          },
          "execution_count": 14,
          "metadata": {},
          "output_type": "execute_result"
        }
      ],
      "source": [
        "combined_df.columns"
      ]
    },
    {
      "cell_type": "code",
      "execution_count": 15,
      "metadata": {},
      "outputs": [
        {
          "data": {
            "text/plain": [
              "Duration                    0\n",
              "Start.date                  0\n",
              "End.date                    0\n",
              "Start.station.number        0\n",
              "Start.station               0\n",
              "End.station.number      20967\n",
              "End.station             20967\n",
              "rideable_type               0\n",
              "Member.type                 0\n",
              "start_lat                1956\n",
              "start_lng                1956\n",
              "end_lat                  3604\n",
              "end_lng                  3604\n",
              "distance_miles           5388\n",
              "dtype: int64"
            ]
          },
          "execution_count": 15,
          "metadata": {},
          "output_type": "execute_result"
        }
      ],
      "source": [
        "combined_df.isna().sum()"
      ]
    },
    {
      "cell_type": "code",
      "execution_count": 16,
      "metadata": {},
      "outputs": [],
      "source": [
        "combined_df = combined_df.dropna()"
      ]
    },
    {
      "cell_type": "code",
      "execution_count": 17,
      "metadata": {},
      "outputs": [
        {
          "data": {
            "text/plain": [
              "(2107184, 14)"
            ]
          },
          "execution_count": 17,
          "metadata": {},
          "output_type": "execute_result"
        }
      ],
      "source": [
        "combined_df.shape"
      ]
    },
    {
      "cell_type": "code",
      "execution_count": 19,
      "metadata": {},
      "outputs": [],
      "source": [
        "combined_df.to_csv('../Data/Combined_df_teg.csv')"
      ]
    },
    {
      "cell_type": "code",
      "execution_count": null,
      "metadata": {
        "id": "bPr3pNJMyhev"
      },
      "outputs": [],
      "source": [
        "# Remove outliers \n",
        "\n",
        "#combined_df = combined_df[(combined_df['Duration'] <= 200)  & (combined_df['distance_miles']  <= 8)] "
      ]
    },
    {
      "cell_type": "code",
      "execution_count": null,
      "metadata": {
        "id": "LhtP4fDuyhew"
      },
      "outputs": [],
      "source": [
        "# # Create new dataframe\n",
        "\n",
        "# duration = combined_df['Duration'].values\n",
        "\n",
        "# start_date = combined_df['Start.date'].values\n",
        "\n",
        "# end_date = combined_df['End.date'].values\n",
        "\n",
        "# station_number = combined_df['Start.station.number'].values\n",
        "\n",
        "# start_station = combined_df['Start.station'].values\n",
        "\n",
        "# end_station_number = combined_df['End.station.number'].values\n",
        "\n",
        "# end_station = combined_df['End.station'].values\n",
        "\n",
        "# member_type = combined_df['Member.type'].values\n",
        "\n",
        "# start_lat = combined_df['start_lat'].values\n",
        "\n",
        "# start_lng = combined_df['start_lng'].values\n",
        "\n",
        "# end_lat = combined_df['end_lat'].values\n",
        "\n",
        "# end_lng = combined_df['end_lng'].values"
      ]
    },
    {
      "cell_type": "code",
      "execution_count": null,
      "metadata": {
        "id": "B4v3T-4Ayhew"
      },
      "outputs": [],
      "source": [
        "# final_df = pd.DataFrame({'Duration': duration , \n",
        "# 'Start.date':start_date , 'End.date':end_date,\n",
        "# 'Start.station.number':station_number, 'Start.station':start_station,\n",
        "# 'End.station.number': end_station_number, 'End.station':end_station, \"Member.type\":member_type , \n",
        "# \"start_lat\":start_lat , \"start_lng\":start_lng , \n",
        "# \"end_lat\": end_lat , \"end_lng\": end_lng})"
      ]
    },
    {
      "cell_type": "code",
      "execution_count": null,
      "metadata": {
        "id": "VF2ATCdjyhex"
      },
      "outputs": [],
      "source": [
        "#final_df.to_csv('/Users/anthonymoubarak/Desktop/511 Project/Data/Combined_df.csv')"
      ]
    }
  ],
  "metadata": {
    "colab": {
      "provenance": []
    },
    "kernelspec": {
      "display_name": "Python 3.9.13 ('ANLY501')",
      "language": "python",
      "name": "python3"
    },
    "language_info": {
      "codemirror_mode": {
        "name": "ipython",
        "version": 3
      },
      "file_extension": ".py",
      "mimetype": "text/x-python",
      "name": "python",
      "nbconvert_exporter": "python",
      "pygments_lexer": "ipython3",
      "version": "3.9.13"
    },
    "orig_nbformat": 4,
    "vscode": {
      "interpreter": {
        "hash": "fe3850336ae7e16fe4521d887235e5784c5e3aaefe260f8a320996f0c8242fd1"
      }
    }
  },
  "nbformat": 4,
  "nbformat_minor": 0
}
