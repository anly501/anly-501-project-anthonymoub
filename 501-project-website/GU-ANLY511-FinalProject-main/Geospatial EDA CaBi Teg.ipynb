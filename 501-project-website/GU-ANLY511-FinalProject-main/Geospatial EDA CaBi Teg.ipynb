{
 "cells": [
  {
   "cell_type": "markdown",
   "metadata": {},
   "source": [
    "# Geospatial Data Analysis"
   ]
  },
  {
   "cell_type": "markdown",
   "metadata": {},
   "source": [
    "# Pickup, Dropoff Visualization on DC Map using Folium"
   ]
  },
  {
   "cell_type": "markdown",
   "metadata": {},
   "source": [
    "**We shall shuffle our dataset first and then use the first 1000 observations for the convenience of plotting and visualization. Note that the green markers with a label of the play icon denote pick up locations and red markers with a label of the stop icon denote dropoff locations.**"
   ]
  },
  {
   "cell_type": "code",
   "execution_count": 110,
   "metadata": {},
   "outputs": [],
   "source": [
    "import pandas as pd             #pandas for using dataframe and reading csv file(s)\n",
    "import numpy as np              #numpy for vector operations and basic maths\n",
    "import matplotlib.pyplot as plt #for plotting\n",
    "%matplotlib inline              \n",
    "import seaborn as sns           #for making plots\n",
    "from haversine import haversine #for working with latitudinal and longitudinal data points\n",
    "import math                     #for basic math operations\n",
    "import warnings\n",
    "from pandas.plotting import parallel_coordinates #for multivariate plots\n",
    "warnings.filterwarnings('ignore') #ignore deprecation warnings\n",
    "import folium\n",
    "from folium.plugins import HeatMap, MarkerCluster"
   ]
  },
  {
   "cell_type": "code",
   "execution_count": 111,
   "metadata": {},
   "outputs": [],
   "source": [
    "data = pd.read_csv('../Data/Combined_df_teg.csv')"
   ]
  },
  {
   "cell_type": "code",
   "execution_count": 112,
   "metadata": {},
   "outputs": [],
   "source": [
    "data = data.drop(['Unnamed: 0', 'Unnamed: 1'], axis=1)\n",
    "data['Member.type'] = data['Member.type'].str.lower()"
   ]
  },
  {
   "cell_type": "markdown",
   "metadata": {},
   "source": [
    "# First Map: Start and End Locations of 2000 random observations 2016-2022"
   ]
  },
  {
   "cell_type": "code",
   "execution_count": 113,
   "metadata": {},
   "outputs": [],
   "source": [
    "def show_fmaps(data, path=1):\n",
    "    \"\"\"function to generate map and add the pick up and drop coordinates\n",
    "    1. Path = 1 : Join pickup (blue) and drop(red) using a straight line\n",
    "    \"\"\"\n",
    "    map_1 = folium.Map(location=[39.13,-77.4], zoom_start=9) # manually added centre\n",
    "    data_reduced = data.sample(frac=0.001).reset_index(drop=True)\n",
    "    for i in range(data_reduced.shape[0]):\n",
    "        pick_long = data_reduced.loc[data_reduced.index ==i]['start_lng'].values[0]\n",
    "        pick_lat = data_reduced.loc[data_reduced.index ==i]['start_lat'].values[0]\n",
    "        dest_long = data_reduced.loc[data_reduced.index ==i]['end_lng'].values[0]\n",
    "        dest_lat = data_reduced.loc[data_reduced.index ==i]['end_lat'].values[0]\n",
    "        member_popup = data_reduced.loc[data_reduced.index ==i]['Member.type'].values[0]\n",
    "        start_station = data_reduced.loc[data_reduced.index ==i]['Start.station'].values[0]\n",
    "        end_station = data_reduced.loc[data_reduced.index ==i]['End.station'].values[0]\n",
    "        duration = data_reduced.loc[data_reduced.index ==i]['Duration'].values[0]\n",
    "        duration = duration.round()\n",
    "        #iframe = folium.IFrame('Rider:' + member_popup + '<br>' + 'Start Station: ' + start_station + '<br>' + 'End Station: ' + end_station + '<br>' + 'Duration (minutes): ' + str(duration))\n",
    "        #popup = folium.Popup(iframe, min_width=300, max_width=300)\n",
    "        info = 'rider: {} start: {} \\n\\n end: {} \\n\\n duration (mins): {}'.format(member_popup, start_station, end_station, duration)\n",
    "        mclsuter = MarkerCluster(name=\"clusters\").add_to(map_1)\n",
    "        folium.Marker([pick_lat, pick_long], icon=folium.Icon(color='green',icon='play'), popup=info).add_to(mclsuter)\n",
    "        folium.Marker([dest_lat, dest_long], icon=folium.Icon(color='red',icon='stop'),popup=info).add_to(mclsuter)\n",
    "    folium.TileLayer('Stamen Terrain').add_to(map_1)\n",
    "    folium.TileLayer('Stamen Toner').add_to(map_1)\n",
    "    folium.TileLayer('Stamen Water Color').add_to(map_1)\n",
    "    folium.TileLayer('cartodbpositron').add_to(map_1)\n",
    "    folium.TileLayer('cartodbdark_matter').add_to(map_1)\n",
    "    folium.LayerControl().add_to(map_1)\n",
    "    return map_1\n",
    "#left = -77.4, bottom = 38.7, right = -76.9, top = 39.13"
   ]
  },
  {
   "cell_type": "code",
   "execution_count": 114,
   "metadata": {},
   "outputs": [],
   "source": [
    "start_end_clusters_all = show_fmaps(data, path=1)\n",
    "start_end_clusters_all.save(\"2k_start_end_clusters.html\")"
   ]
  },
  {
   "cell_type": "code",
   "execution_count": 100,
   "metadata": {},
   "outputs": [],
   "source": [
    "start_end_points_all = show_fmaps(data, path=1)"
   ]
  },
  {
   "cell_type": "code",
   "execution_count": 101,
   "metadata": {},
   "outputs": [],
   "source": [
    "start_end_points_all.save(\"2k_start_end.html\")"
   ]
  },
  {
   "cell_type": "markdown",
   "metadata": {},
   "source": [
    "# Second Map: Heatmap of End Locations Given Start Station of Georgetown O St"
   ]
  },
  {
   "cell_type": "code",
   "execution_count": null,
   "metadata": {},
   "outputs": [],
   "source": [
    "data['Member.type'] = data['Member.type'].astype('category')\n",
    "data['Start.date'] = pd.to_datetime(data['Start.date'])\n",
    "data['End.date'] = pd.to_datetime(data['End.date'])\n",
    "data['rideable_type'] = data['rideable_type'].astype('category')\n",
    "data['Start.station.number'] = data['Start.station.number'].astype('category')\n",
    "data['End.station.number'] = data['End.station.number'].astype('category')"
   ]
  },
  {
   "cell_type": "code",
   "execution_count": 106,
   "metadata": {},
   "outputs": [
    {
     "data": {
      "text/plain": [
       "member    1537543\n",
       "casual     569641\n",
       "Name: Member.type, dtype: int64"
      ]
     },
     "execution_count": 106,
     "metadata": {},
     "output_type": "execute_result"
    }
   ],
   "source": [
    "data['Member.type'].value_counts()"
   ]
  },
  {
   "cell_type": "code",
   "execution_count": 109,
   "metadata": {},
   "outputs": [],
   "source": [
    "import folium\n",
    "from folium.plugins import HeatMap\n",
    "\n",
    "def end_locations_per_start(data, start_location):\n",
    "    start_location  = data.loc[(data['Start.station'].str.contains(start_location))]\n",
    "    #start_location_lat = data[data['Start.station']==start_location]['start_lat'].values[0]\n",
    "    #start_location_lng = data[data['Start.station']==start_location]['start_lng'].values[0]\n",
    "    end = start_location.groupby(['end_lat','end_lng'])['End.date'].count().reset_index().sort_values(by='End.date', ascending=False).head(50)\n",
    "    #end = end.loc[(end['end_lat'] != start_location) &  (end['end_lng'] != -77.071611)] # only want to see other stations apart from gtown's\n",
    "    end.columns = ['End_Lat', 'End_Lng', 'Total Trips']\n",
    "    loc_ends_map = folium.Map(location=[data.start_lat.mean(), data.start_lng.mean()], zoom_start=14, control_scale=True)\n",
    "    HeatMap(end).add_to(loc_ends_map)\n",
    "    folium.TileLayer('Stamen Terrain').add_to(loc_ends_map)\n",
    "    folium.TileLayer('Stamen Toner').add_to(loc_ends_map)\n",
    "    folium.TileLayer('Stamen Water Color').add_to(loc_ends_map)\n",
    "    folium.TileLayer('cartodbpositron').add_to(loc_ends_map)\n",
    "    folium.TileLayer('cartodbdark_matter').add_to(loc_ends_map)\n",
    "    folium.LayerControl().add_to(loc_ends_map)\n",
    "    #folium.Marker([start_location_lat, start_location_lng], icon=folium.Icon(color='green',icon='play')).add_to(loc_ends_map)\n",
    "    loc_ends_map.save(\"enterstartloc_heatmap.html\")\n",
    "end_locations_per_start(data, \"37th & O St NW / Georgetown University\")"
   ]
  },
  {
   "cell_type": "code",
   "execution_count": 198,
   "metadata": {},
   "outputs": [],
   "source": [
    "# map = folium.Map(location=[data.start_lat.mean(), data.start_lng.mean()], zoom_start=14, control_scale=True)\n",
    "# data_reduced = data.sample(n = 1000) #combined_data.iloc[1:10]\n",
    "# for index, location_info in data_reduced.iterrows():\n",
    "#     folium.Marker([location_info[\"start_lat\"], location_info[\"start_lng\"]], icon=folium.Icon(color='green',icon='play'), popup=location_info[\"Member.type\"]).add_to(map)\n",
    "#     folium.Marker([location_info[\"end_lat\"], location_info[\"end_lng\"]], icon=folium.Icon(color='red',icon='stop'), popup=location_info[\"Member.type\"]).add_to(map)\n",
    "#     folium.PolyLine([(location_info[\"start_lat\"], location_info[\"start_lng\"]),\n",
    "#        (location_info[\"end_lat\"], location_info[\"end_lng\"])],\n",
    "#                 color='red',\n",
    "#                 weight=2.5,\n",
    "#                 opacity=0.8).add_to(map)\n",
    "# map.save(\"map_first10_paths.html\")"
   ]
  },
  {
   "cell_type": "code",
   "execution_count": null,
   "metadata": {},
   "outputs": [],
   "source": [
    "#combined_data.loc[combined_data['start_lat'] > 38.9 & combined_data['end_lat'] < 38.91]\n",
    "\n",
    "#combined_data.query('38.9 < start_lat < 38.91')\n",
    "\n",
    "tmp = combined_data.loc[(combined_data['start_lat'] >= 38.86) & (combined_data['start_lat'] <= 38.902)]\n",
    "tmp = tmp.loc[(tmp['start_lng'] >= -77.056) & (tmp['start_lng'] <= -77.0193)]\n",
    "downtown_start = tmp.groupby(['start_lat','start_lng'])['Start.date'].count().reset_index()\n",
    "downtown_start.columns = ['Lat', 'Long', 'Num_trips']\n",
    "from folium.plugins import HeatMap\n",
    "dtown_starts_map = folium.Map(location=[combined_data.start_lat.mean(), combined_data.start_lng.mean()], zoom_start=14, control_scale=True)\n",
    "HeatMap(downtown_start).add_to(dtown_starts_map)\n",
    "dtown_starts_map.save(\"dtown_start_heatmap.html\")\n",
    "\n",
    "end = combined_data.loc[(combined_data['end_lat'] >= 38.86) & (combined_data['end_lat'] <= 38.902)]\n",
    "end = end.loc[(tmp['end_lng'] >= -77.056) & (end['end_lng'] <= -77.0193)]\n",
    "downtown_end = end.groupby(['end_lat','end_lng'])['End.date'].count().reset_index()\n",
    "downtown_end.columns = ['Lat', 'Long', 'Num_trips']\n",
    "from folium.plugins import HeatMap\n",
    "dtown_ends_map = folium.Map(location=[combined_data.end_lat.mean(), combined_data.end_lng.mean()], zoom_start=14, control_scale=True)\n",
    "HeatMap(downtown_end).add_to(dtown_ends_map)\n",
    "dtown_ends_map.save(\"dtown_end_heatmap.html\")"
   ]
  }
 ],
 "metadata": {
  "kernelspec": {
   "display_name": "Python 3.9.13 ('ANLY501')",
   "language": "python",
   "name": "python3"
  },
  "language_info": {
   "codemirror_mode": {
    "name": "ipython",
    "version": 3
   },
   "file_extension": ".py",
   "mimetype": "text/x-python",
   "name": "python",
   "nbconvert_exporter": "python",
   "pygments_lexer": "ipython3",
   "version": "3.9.13"
  },
  "vscode": {
   "interpreter": {
    "hash": "fe3850336ae7e16fe4521d887235e5784c5e3aaefe260f8a320996f0c8242fd1"
   }
  }
 },
 "nbformat": 4,
 "nbformat_minor": 4
}
